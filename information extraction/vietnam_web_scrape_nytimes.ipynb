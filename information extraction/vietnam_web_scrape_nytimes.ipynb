{
 "cells": [
  {
   "cell_type": "code",
   "execution_count": 6,
   "metadata": {
    "id": "Uvd3iRfUxNXj"
   },
   "outputs": [],
   "source": [
    "import time\n",
    "import requests\n",
    "import pandas as pd\n",
    "from bs4 import BeautifulSoup\n",
    "from datetime import datetime\n",
    "from datetime import timedelta\n",
    "from selenium import webdriver\n",
    "from urllib.request import urlopen\n",
    "from selenium.common.exceptions import TimeoutException\n",
    "from selenium.webdriver.support.wait import WebDriverWait\n",
    "from selenium.webdriver.support import expected_conditions as EC\n",
    "from selenium.webdriver.common.by import By"
   ]
  },
  {
   "cell_type": "code",
   "execution_count": 7,
   "metadata": {},
   "outputs": [],
   "source": [
    "path = '/Users/yichuanhong/Documents/Python Project/Vietnam Avian Flu Outbreak Research/NLP/chromedriver'\n",
    "url = 'https://www.nytimes.com/search?query=vietnam+avian+flu'\n",
    "root = 'https://www.nytimes.com'\n",
    "df = pd.DataFrame(columns = ['Title', 'URL', 'Date', 'Content'])\n",
    "driver = webdriver.Chrome(path)\n",
    "driver.get(url)"
   ]
  },
  {
   "cell_type": "code",
   "execution_count": 8,
   "metadata": {},
   "outputs": [
    {
     "name": "stdout",
     "output_type": "stream",
     "text": [
      "Reached bottom of page\n"
     ]
    }
   ],
   "source": [
    "while True:\n",
    "    try:\n",
    "        loadMoreButton = driver.find_element_by_xpath('//*[@id=\"site-content\"]/div/div[2]/div[2]/div/button')\n",
    "        loadMoreButton.click()\n",
    "        time.sleep(2)\n",
    "    except:\n",
    "        print('Reached bottom of page')\n",
    "        break"
   ]
  },
  {
   "cell_type": "code",
   "execution_count": 9,
   "metadata": {},
   "outputs": [],
   "source": [
    "soup = BeautifulSoup(driver.page_source)"
   ]
  },
  {
   "cell_type": "code",
   "execution_count": 13,
   "metadata": {},
   "outputs": [],
   "source": [
    "news = soup.find_all('li', class_ = 'css-1l4w6pd')\n",
    "for item in news:\n",
    "    title = item.find('h4', class_ = 'css-2fgx4k').text\n",
    "    date = item.find('span', class_ = 'css-17ubb9w').text\n",
    "    url = root + item.find('a')['href']\n",
    "    new_row = {'Title': title, 'URL': url, 'Date': date, 'Content': ''}\n",
    "    df = df.append(new_row, ignore_index = True)"
   ]
  },
  {
   "cell_type": "code",
   "execution_count": 14,
   "metadata": {},
   "outputs": [
    {
     "data": {
      "text/html": [
       "<div>\n",
       "<style scoped>\n",
       "    .dataframe tbody tr th:only-of-type {\n",
       "        vertical-align: middle;\n",
       "    }\n",
       "\n",
       "    .dataframe tbody tr th {\n",
       "        vertical-align: top;\n",
       "    }\n",
       "\n",
       "    .dataframe thead th {\n",
       "        text-align: right;\n",
       "    }\n",
       "</style>\n",
       "<table border=\"1\" class=\"dataframe\">\n",
       "  <thead>\n",
       "    <tr style=\"text-align: right;\">\n",
       "      <th></th>\n",
       "      <th>Title</th>\n",
       "      <th>URL</th>\n",
       "      <th>Date</th>\n",
       "      <th>Content</th>\n",
       "    </tr>\n",
       "  </thead>\n",
       "  <tbody>\n",
       "    <tr>\n",
       "      <th>0</th>\n",
       "      <td>Vietnam reports 3rd avian flu death</td>\n",
       "      <td>https://www.nytimes.com/2005/01/11/health/viet...</td>\n",
       "      <td>Jan. 11, 2005</td>\n",
       "      <td></td>\n",
       "    </tr>\n",
       "    <tr>\n",
       "      <th>1</th>\n",
       "      <td>4 New Human Cases of Avian Flu Are Reported in...</td>\n",
       "      <td>https://www.nytimes.com/2005/03/08/world/asia/...</td>\n",
       "      <td>March 8, 2005</td>\n",
       "      <td></td>\n",
       "    </tr>\n",
       "    <tr>\n",
       "      <th>2</th>\n",
       "      <td>Vietnam and China Report New Cases of Avian Fl...</td>\n",
       "      <td>https://www.nytimes.com/2004/01/18/world/vietn...</td>\n",
       "      <td>Jan. 18, 2004</td>\n",
       "      <td></td>\n",
       "    </tr>\n",
       "    <tr>\n",
       "      <th>3</th>\n",
       "      <td>5th Death From Avian Flu</td>\n",
       "      <td>https://www.nytimes.com/2004/01/19/world/5th-d...</td>\n",
       "      <td>Jan. 19, 2004</td>\n",
       "      <td></td>\n",
       "    </tr>\n",
       "    <tr>\n",
       "      <th>4</th>\n",
       "      <td>The Enduring Avian Flu Problem</td>\n",
       "      <td>https://www.nytimes.com/2004/08/04/opinion/the...</td>\n",
       "      <td>Aug. 4, 2004</td>\n",
       "      <td></td>\n",
       "    </tr>\n",
       "    <tr>\n",
       "      <th>...</th>\n",
       "      <td>...</td>\n",
       "      <td>...</td>\n",
       "      <td>...</td>\n",
       "      <td>...</td>\n",
       "    </tr>\n",
       "    <tr>\n",
       "      <th>292</th>\n",
       "      <td>Corrections</td>\n",
       "      <td>https://www.nytimes.com/2004/01/23/nyregion/c-...</td>\n",
       "      <td>Jan. 23, 2004</td>\n",
       "      <td></td>\n",
       "    </tr>\n",
       "    <tr>\n",
       "      <th>293</th>\n",
       "      <td>Corrections</td>\n",
       "      <td>https://www.nytimes.com/2006/05/16/nyregion/pa...</td>\n",
       "      <td>May 16, 2006</td>\n",
       "      <td></td>\n",
       "    </tr>\n",
       "    <tr>\n",
       "      <th>294</th>\n",
       "      <td>Letters</td>\n",
       "      <td>https://www.nytimes.com/2004/10/19/science/let...</td>\n",
       "      <td>Oct. 19, 2004</td>\n",
       "      <td></td>\n",
       "    </tr>\n",
       "    <tr>\n",
       "      <th>295</th>\n",
       "      <td>Letters</td>\n",
       "      <td>https://www.nytimes.com/2004/11/21/magazine/le...</td>\n",
       "      <td>Nov. 21, 2004</td>\n",
       "      <td></td>\n",
       "    </tr>\n",
       "    <tr>\n",
       "      <th>296</th>\n",
       "      <td>Corrections: For the Record</td>\n",
       "      <td>https://www.nytimes.com/2006/05/16/pageoneplus...</td>\n",
       "      <td>May 16, 2006</td>\n",
       "      <td></td>\n",
       "    </tr>\n",
       "  </tbody>\n",
       "</table>\n",
       "<p>297 rows × 4 columns</p>\n",
       "</div>"
      ],
      "text/plain": [
       "                                                 Title  \\\n",
       "0                  Vietnam reports 3rd avian flu death   \n",
       "1    4 New Human Cases of Avian Flu Are Reported in...   \n",
       "2    Vietnam and China Report New Cases of Avian Fl...   \n",
       "3                             5th Death From Avian Flu   \n",
       "4                       The Enduring Avian Flu Problem   \n",
       "..                                                 ...   \n",
       "292                                        Corrections   \n",
       "293                                        Corrections   \n",
       "294                                            Letters   \n",
       "295                                            Letters   \n",
       "296                        Corrections: For the Record   \n",
       "\n",
       "                                                   URL           Date Content  \n",
       "0    https://www.nytimes.com/2005/01/11/health/viet...  Jan. 11, 2005          \n",
       "1    https://www.nytimes.com/2005/03/08/world/asia/...  March 8, 2005          \n",
       "2    https://www.nytimes.com/2004/01/18/world/vietn...  Jan. 18, 2004          \n",
       "3    https://www.nytimes.com/2004/01/19/world/5th-d...  Jan. 19, 2004          \n",
       "4    https://www.nytimes.com/2004/08/04/opinion/the...   Aug. 4, 2004          \n",
       "..                                                 ...            ...     ...  \n",
       "292  https://www.nytimes.com/2004/01/23/nyregion/c-...  Jan. 23, 2004          \n",
       "293  https://www.nytimes.com/2006/05/16/nyregion/pa...   May 16, 2006          \n",
       "294  https://www.nytimes.com/2004/10/19/science/let...  Oct. 19, 2004          \n",
       "295  https://www.nytimes.com/2004/11/21/magazine/le...  Nov. 21, 2004          \n",
       "296  https://www.nytimes.com/2006/05/16/pageoneplus...   May 16, 2006          \n",
       "\n",
       "[297 rows x 4 columns]"
      ]
     },
     "execution_count": 14,
     "metadata": {},
     "output_type": "execute_result"
    }
   ],
   "source": [
    "df"
   ]
  }
 ],
 "metadata": {
  "colab": {
   "collapsed_sections": [],
   "name": "vietnam web scrape - nytimes.ipynb",
   "provenance": []
  },
  "kernelspec": {
   "display_name": "Python 3",
   "language": "python",
   "name": "python3"
  },
  "language_info": {
   "codemirror_mode": {
    "name": "ipython",
    "version": 3
   },
   "file_extension": ".py",
   "mimetype": "text/x-python",
   "name": "python",
   "nbconvert_exporter": "python",
   "pygments_lexer": "ipython3",
   "version": "3.8.5"
  }
 },
 "nbformat": 4,
 "nbformat_minor": 1
}
