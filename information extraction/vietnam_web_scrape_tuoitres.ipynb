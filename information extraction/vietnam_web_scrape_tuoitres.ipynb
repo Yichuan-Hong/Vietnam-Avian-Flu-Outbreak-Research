{
 "cells": [
  {
   "cell_type": "code",
   "execution_count": 50,
   "metadata": {},
   "outputs": [],
   "source": [
    "import time\n",
    "import requests\n",
    "import pandas as pd\n",
    "from bs4 import BeautifulSoup\n",
    "from datetime import datetime\n",
    "from datetime import timedelta\n",
    "from selenium import webdriver\n",
    "from urllib.request import urlopen\n",
    "from selenium.common.exceptions import TimeoutException\n",
    "from selenium.webdriver.support.wait import WebDriverWait\n",
    "from selenium.webdriver.support import expected_conditions as EC\n",
    "from selenium.webdriver.common.by import By"
   ]
  },
  {
   "cell_type": "code",
   "execution_count": 52,
   "metadata": {},
   "outputs": [],
   "source": [
    "path = '/Users/yichuanhong/Documents/Python Project/Vietnam Avian Flu Outbreak Research/NLP/chromedriver'\n",
    "url = 'https://tuoitre.vn/tim-kiem.htm?keywords=c%C3%BAm%20gia%20c%E1%BA%A7m'\n",
    "root = 'https://tuoitre.vn'\n",
    "df = pd.DataFrame(columns = ['Title', 'URL', 'Date', 'Content'])\n",
    "driver = webdriver.Chrome(path)\n",
    "driver.get(url)"
   ]
  },
  {
   "cell_type": "code",
   "execution_count": 53,
   "metadata": {},
   "outputs": [
    {
     "name": "stdout",
     "output_type": "stream",
     "text": [
      "Reached bottom of page\n"
     ]
    }
   ],
   "source": [
    "while True:\n",
    "    try:\n",
    "        loadMoreButton = driver.find_element_by_xpath('//*[@id=\"content\"]/div[2]/div[2]/div[3]/div/div[1]/div/div/div/a')\n",
    "        loadMoreButton.click()\n",
    "        time.sleep(2)\n",
    "    except:\n",
    "        print('Reached bottom of page')\n",
    "        break"
   ]
  },
  {
   "cell_type": "code",
   "execution_count": 54,
   "metadata": {},
   "outputs": [],
   "source": [
    "news = driver.find_elements_by_css_selector('div.name-news')"
   ]
  },
  {
   "cell_type": "code",
   "execution_count": 55,
   "metadata": {},
   "outputs": [
    {
     "ename": "StaleElementReferenceException",
     "evalue": "Message: stale element reference: element is not attached to the page document\n  (Session info: chrome=92.0.4515.107)\n",
     "output_type": "error",
     "traceback": [
      "\u001b[0;31m---------------------------------------------------------------------------\u001b[0m",
      "\u001b[0;31mStaleElementReferenceException\u001b[0m            Traceback (most recent call last)",
      "\u001b[0;32m<ipython-input-55-b33a65926118>\u001b[0m in \u001b[0;36m<module>\u001b[0;34m\u001b[0m\n\u001b[1;32m      1\u001b[0m \u001b[0;32mfor\u001b[0m \u001b[0mitem\u001b[0m \u001b[0;32min\u001b[0m \u001b[0mnews\u001b[0m\u001b[0;34m:\u001b[0m\u001b[0;34m\u001b[0m\u001b[0;34m\u001b[0m\u001b[0m\n\u001b[0;32m----> 2\u001b[0;31m     \u001b[0mcur\u001b[0m \u001b[0;34m=\u001b[0m \u001b[0mitem\u001b[0m\u001b[0;34m.\u001b[0m\u001b[0mfind_element_by_tag_name\u001b[0m\u001b[0;34m(\u001b[0m\u001b[0;34m'a'\u001b[0m\u001b[0;34m)\u001b[0m\u001b[0;34m\u001b[0m\u001b[0;34m\u001b[0m\u001b[0m\n\u001b[0m\u001b[1;32m      3\u001b[0m     \u001b[0mtitle\u001b[0m \u001b[0;34m=\u001b[0m \u001b[0mcur\u001b[0m\u001b[0;34m.\u001b[0m\u001b[0mget_attribute\u001b[0m\u001b[0;34m(\u001b[0m\u001b[0;34m'title'\u001b[0m\u001b[0;34m)\u001b[0m\u001b[0;34m\u001b[0m\u001b[0;34m\u001b[0m\u001b[0m\n\u001b[1;32m      4\u001b[0m     \u001b[0msub_url\u001b[0m \u001b[0;34m=\u001b[0m \u001b[0mcur\u001b[0m\u001b[0;34m.\u001b[0m\u001b[0mget_attribute\u001b[0m\u001b[0;34m(\u001b[0m\u001b[0;34m'href'\u001b[0m\u001b[0;34m)\u001b[0m\u001b[0;34m\u001b[0m\u001b[0;34m\u001b[0m\u001b[0m\n\u001b[1;32m      5\u001b[0m     \u001b[0;32mif\u001b[0m \u001b[0msub_url\u001b[0m\u001b[0;34m.\u001b[0m\u001b[0mstartswith\u001b[0m\u001b[0;34m(\u001b[0m\u001b[0;34m'https'\u001b[0m\u001b[0;34m)\u001b[0m\u001b[0;34m:\u001b[0m\u001b[0;34m\u001b[0m\u001b[0;34m\u001b[0m\u001b[0m\n",
      "\u001b[0;32m/opt/anaconda3/lib/python3.8/site-packages/selenium/webdriver/remote/webelement.py\u001b[0m in \u001b[0;36mfind_element_by_tag_name\u001b[0;34m(self, name)\u001b[0m\n\u001b[1;32m    303\u001b[0m             \u001b[0melement\u001b[0m \u001b[0;34m=\u001b[0m \u001b[0melement\u001b[0m\u001b[0;34m.\u001b[0m\u001b[0mfind_element_by_tag_name\u001b[0m\u001b[0;34m(\u001b[0m\u001b[0;34m'h1'\u001b[0m\u001b[0;34m)\u001b[0m\u001b[0;34m\u001b[0m\u001b[0;34m\u001b[0m\u001b[0m\n\u001b[1;32m    304\u001b[0m         \"\"\"\n\u001b[0;32m--> 305\u001b[0;31m         \u001b[0;32mreturn\u001b[0m \u001b[0mself\u001b[0m\u001b[0;34m.\u001b[0m\u001b[0mfind_element\u001b[0m\u001b[0;34m(\u001b[0m\u001b[0mby\u001b[0m\u001b[0;34m=\u001b[0m\u001b[0mBy\u001b[0m\u001b[0;34m.\u001b[0m\u001b[0mTAG_NAME\u001b[0m\u001b[0;34m,\u001b[0m \u001b[0mvalue\u001b[0m\u001b[0;34m=\u001b[0m\u001b[0mname\u001b[0m\u001b[0;34m)\u001b[0m\u001b[0;34m\u001b[0m\u001b[0;34m\u001b[0m\u001b[0m\n\u001b[0m\u001b[1;32m    306\u001b[0m \u001b[0;34m\u001b[0m\u001b[0m\n\u001b[1;32m    307\u001b[0m     \u001b[0;32mdef\u001b[0m \u001b[0mfind_elements_by_tag_name\u001b[0m\u001b[0;34m(\u001b[0m\u001b[0mself\u001b[0m\u001b[0;34m,\u001b[0m \u001b[0mname\u001b[0m\u001b[0;34m)\u001b[0m\u001b[0;34m:\u001b[0m\u001b[0;34m\u001b[0m\u001b[0;34m\u001b[0m\u001b[0m\n",
      "\u001b[0;32m/opt/anaconda3/lib/python3.8/site-packages/selenium/webdriver/remote/webelement.py\u001b[0m in \u001b[0;36mfind_element\u001b[0;34m(self, by, value)\u001b[0m\n\u001b[1;32m    656\u001b[0m                 \u001b[0mvalue\u001b[0m \u001b[0;34m=\u001b[0m \u001b[0;34m'[name=\"%s\"]'\u001b[0m \u001b[0;34m%\u001b[0m \u001b[0mvalue\u001b[0m\u001b[0;34m\u001b[0m\u001b[0;34m\u001b[0m\u001b[0m\n\u001b[1;32m    657\u001b[0m \u001b[0;34m\u001b[0m\u001b[0m\n\u001b[0;32m--> 658\u001b[0;31m         return self._execute(Command.FIND_CHILD_ELEMENT,\n\u001b[0m\u001b[1;32m    659\u001b[0m                              {\"using\": by, \"value\": value})['value']\n\u001b[1;32m    660\u001b[0m \u001b[0;34m\u001b[0m\u001b[0m\n",
      "\u001b[0;32m/opt/anaconda3/lib/python3.8/site-packages/selenium/webdriver/remote/webelement.py\u001b[0m in \u001b[0;36m_execute\u001b[0;34m(self, command, params)\u001b[0m\n\u001b[1;32m    631\u001b[0m             \u001b[0mparams\u001b[0m \u001b[0;34m=\u001b[0m \u001b[0;34m{\u001b[0m\u001b[0;34m}\u001b[0m\u001b[0;34m\u001b[0m\u001b[0;34m\u001b[0m\u001b[0m\n\u001b[1;32m    632\u001b[0m         \u001b[0mparams\u001b[0m\u001b[0;34m[\u001b[0m\u001b[0;34m'id'\u001b[0m\u001b[0;34m]\u001b[0m \u001b[0;34m=\u001b[0m \u001b[0mself\u001b[0m\u001b[0;34m.\u001b[0m\u001b[0m_id\u001b[0m\u001b[0;34m\u001b[0m\u001b[0;34m\u001b[0m\u001b[0m\n\u001b[0;32m--> 633\u001b[0;31m         \u001b[0;32mreturn\u001b[0m \u001b[0mself\u001b[0m\u001b[0;34m.\u001b[0m\u001b[0m_parent\u001b[0m\u001b[0;34m.\u001b[0m\u001b[0mexecute\u001b[0m\u001b[0;34m(\u001b[0m\u001b[0mcommand\u001b[0m\u001b[0;34m,\u001b[0m \u001b[0mparams\u001b[0m\u001b[0;34m)\u001b[0m\u001b[0;34m\u001b[0m\u001b[0;34m\u001b[0m\u001b[0m\n\u001b[0m\u001b[1;32m    634\u001b[0m \u001b[0;34m\u001b[0m\u001b[0m\n\u001b[1;32m    635\u001b[0m     \u001b[0;32mdef\u001b[0m \u001b[0mfind_element\u001b[0m\u001b[0;34m(\u001b[0m\u001b[0mself\u001b[0m\u001b[0;34m,\u001b[0m \u001b[0mby\u001b[0m\u001b[0;34m=\u001b[0m\u001b[0mBy\u001b[0m\u001b[0;34m.\u001b[0m\u001b[0mID\u001b[0m\u001b[0;34m,\u001b[0m \u001b[0mvalue\u001b[0m\u001b[0;34m=\u001b[0m\u001b[0;32mNone\u001b[0m\u001b[0;34m)\u001b[0m\u001b[0;34m:\u001b[0m\u001b[0;34m\u001b[0m\u001b[0;34m\u001b[0m\u001b[0m\n",
      "\u001b[0;32m/opt/anaconda3/lib/python3.8/site-packages/selenium/webdriver/remote/webdriver.py\u001b[0m in \u001b[0;36mexecute\u001b[0;34m(self, driver_command, params)\u001b[0m\n\u001b[1;32m    319\u001b[0m         \u001b[0mresponse\u001b[0m \u001b[0;34m=\u001b[0m \u001b[0mself\u001b[0m\u001b[0;34m.\u001b[0m\u001b[0mcommand_executor\u001b[0m\u001b[0;34m.\u001b[0m\u001b[0mexecute\u001b[0m\u001b[0;34m(\u001b[0m\u001b[0mdriver_command\u001b[0m\u001b[0;34m,\u001b[0m \u001b[0mparams\u001b[0m\u001b[0;34m)\u001b[0m\u001b[0;34m\u001b[0m\u001b[0;34m\u001b[0m\u001b[0m\n\u001b[1;32m    320\u001b[0m         \u001b[0;32mif\u001b[0m \u001b[0mresponse\u001b[0m\u001b[0;34m:\u001b[0m\u001b[0;34m\u001b[0m\u001b[0;34m\u001b[0m\u001b[0m\n\u001b[0;32m--> 321\u001b[0;31m             \u001b[0mself\u001b[0m\u001b[0;34m.\u001b[0m\u001b[0merror_handler\u001b[0m\u001b[0;34m.\u001b[0m\u001b[0mcheck_response\u001b[0m\u001b[0;34m(\u001b[0m\u001b[0mresponse\u001b[0m\u001b[0;34m)\u001b[0m\u001b[0;34m\u001b[0m\u001b[0;34m\u001b[0m\u001b[0m\n\u001b[0m\u001b[1;32m    322\u001b[0m             response['value'] = self._unwrap_value(\n\u001b[1;32m    323\u001b[0m                 response.get('value', None))\n",
      "\u001b[0;32m/opt/anaconda3/lib/python3.8/site-packages/selenium/webdriver/remote/errorhandler.py\u001b[0m in \u001b[0;36mcheck_response\u001b[0;34m(self, response)\u001b[0m\n\u001b[1;32m    240\u001b[0m                 \u001b[0malert_text\u001b[0m \u001b[0;34m=\u001b[0m \u001b[0mvalue\u001b[0m\u001b[0;34m[\u001b[0m\u001b[0;34m'alert'\u001b[0m\u001b[0;34m]\u001b[0m\u001b[0;34m.\u001b[0m\u001b[0mget\u001b[0m\u001b[0;34m(\u001b[0m\u001b[0;34m'text'\u001b[0m\u001b[0;34m)\u001b[0m\u001b[0;34m\u001b[0m\u001b[0;34m\u001b[0m\u001b[0m\n\u001b[1;32m    241\u001b[0m             \u001b[0;32mraise\u001b[0m \u001b[0mexception_class\u001b[0m\u001b[0;34m(\u001b[0m\u001b[0mmessage\u001b[0m\u001b[0;34m,\u001b[0m \u001b[0mscreen\u001b[0m\u001b[0;34m,\u001b[0m \u001b[0mstacktrace\u001b[0m\u001b[0;34m,\u001b[0m \u001b[0malert_text\u001b[0m\u001b[0;34m)\u001b[0m\u001b[0;34m\u001b[0m\u001b[0;34m\u001b[0m\u001b[0m\n\u001b[0;32m--> 242\u001b[0;31m         \u001b[0;32mraise\u001b[0m \u001b[0mexception_class\u001b[0m\u001b[0;34m(\u001b[0m\u001b[0mmessage\u001b[0m\u001b[0;34m,\u001b[0m \u001b[0mscreen\u001b[0m\u001b[0;34m,\u001b[0m \u001b[0mstacktrace\u001b[0m\u001b[0;34m)\u001b[0m\u001b[0;34m\u001b[0m\u001b[0;34m\u001b[0m\u001b[0m\n\u001b[0m\u001b[1;32m    243\u001b[0m \u001b[0;34m\u001b[0m\u001b[0m\n\u001b[1;32m    244\u001b[0m     \u001b[0;32mdef\u001b[0m \u001b[0m_value_or_default\u001b[0m\u001b[0;34m(\u001b[0m\u001b[0mself\u001b[0m\u001b[0;34m,\u001b[0m \u001b[0mobj\u001b[0m\u001b[0;34m,\u001b[0m \u001b[0mkey\u001b[0m\u001b[0;34m,\u001b[0m \u001b[0mdefault\u001b[0m\u001b[0;34m)\u001b[0m\u001b[0;34m:\u001b[0m\u001b[0;34m\u001b[0m\u001b[0;34m\u001b[0m\u001b[0m\n",
      "\u001b[0;31mStaleElementReferenceException\u001b[0m: Message: stale element reference: element is not attached to the page document\n  (Session info: chrome=92.0.4515.107)\n"
     ]
    }
   ],
   "source": [
    "for item in news:\n",
    "    cur = item.find_element_by_tag_name('a')\n",
    "    title = cur.get_attribute('title')\n",
    "    sub_url = cur.get_attribute('href')\n",
    "    if sub_url.startswith('https'):\n",
    "        url = sub_url\n",
    "        response = requests.get(url).text\n",
    "    else:\n",
    "        url = root + sub_url\n",
    "        response = requests.get(url).text\n",
    "    soup = BeautifulSoup(response, 'lxml')\n",
    "    date = soup.find('div', class_ = 'date-time').text\n",
    "    date = datetime.strptime(date.split(' ')[0], '%d/%m/%Y')\n",
    "    content = soup.find('div', class_ = 'content fck').text\n",
    "    new_row = {'Title': title, 'URL': url, 'Date': date, 'Content': content}\n",
    "    df = df.append(new_row, ignore_index = True)"
   ]
  },
  {
   "cell_type": "code",
   "execution_count": 56,
   "metadata": {},
   "outputs": [
    {
     "data": {
      "text/html": [
       "<div>\n",
       "<style scoped>\n",
       "    .dataframe tbody tr th:only-of-type {\n",
       "        vertical-align: middle;\n",
       "    }\n",
       "\n",
       "    .dataframe tbody tr th {\n",
       "        vertical-align: top;\n",
       "    }\n",
       "\n",
       "    .dataframe thead th {\n",
       "        text-align: right;\n",
       "    }\n",
       "</style>\n",
       "<table border=\"1\" class=\"dataframe\">\n",
       "  <thead>\n",
       "    <tr style=\"text-align: right;\">\n",
       "      <th></th>\n",
       "      <th>Title</th>\n",
       "      <th>URL</th>\n",
       "      <th>Date</th>\n",
       "      <th>Content</th>\n",
       "    </tr>\n",
       "  </thead>\n",
       "  <tbody>\n",
       "    <tr>\n",
       "      <th>0</th>\n",
       "      <td>Quảng Ninh phát hiện chủng cúm gia cầm lần đầu...</td>\n",
       "      <td>https://tuoitre.vn/quang-ninh-phat-hien-chung-...</td>\n",
       "      <td>2021-07-02</td>\n",
       "      <td>\\nNgày 2-7, Chi cục Chăn nuôi và thú y tỉnh Qu...</td>\n",
       "    </tr>\n",
       "    <tr>\n",
       "      <th>1</th>\n",
       "      <td>Trung Quốc ghi nhận ca nhiễm virus cúm gia cầm...</td>\n",
       "      <td>https://tuoitre.vn/trung-quoc-ghi-nhan-ca-nhie...</td>\n",
       "      <td>2021-06-01</td>\n",
       "      <td>\\nTiêm ngừa cúm cho gia cầm ở Trung Quốc - Ảnh...</td>\n",
       "    </tr>\n",
       "    <tr>\n",
       "      <th>2</th>\n",
       "      <td>Mới 5 tuần đã có 40 ổ dịch cúm gia cầm, nguy c...</td>\n",
       "      <td>https://tuoitre.vn/moi-5-tuan-da-co-40-o-dich-...</td>\n",
       "      <td>2021-02-08</td>\n",
       "      <td>\\nNguy cơ lây nhiễm cúm gia cầm sang người - Ả...</td>\n",
       "    </tr>\n",
       "    <tr>\n",
       "      <th>3</th>\n",
       "      <td>Lo dịch bệnh tấn công gia súc, gia cầm</td>\n",
       "      <td>https://tuoitre.vn/lo-dich-benh-tan-cong-gia-s...</td>\n",
       "      <td>2020-12-25</td>\n",
       "      <td>\\nMột ổ dịch cúm gia cầm tại huyện Cần Đước, L...</td>\n",
       "    </tr>\n",
       "    <tr>\n",
       "      <th>4</th>\n",
       "      <td>Cúm gia cầm đe dọa Nhật, Hàn bị dạng cúm độc l...</td>\n",
       "      <td>https://tuoitre.vn/cum-gia-cam-de-doa-nhat-han...</td>\n",
       "      <td>2020-12-13</td>\n",
       "      <td>\\nLực lượng chức năng chuẩn bị xử lý cúm gia c...</td>\n",
       "    </tr>\n",
       "    <tr>\n",
       "      <th>...</th>\n",
       "      <td>...</td>\n",
       "      <td>...</td>\n",
       "      <td>...</td>\n",
       "      <td>...</td>\n",
       "    </tr>\n",
       "    <tr>\n",
       "      <th>556</th>\n",
       "      <td>Trung Quốc: Bộ Y tế thừa nhận khả năng cúm gia...</td>\n",
       "      <td>https://tuoitre.vn/trung-quoc-bo-y-te-thua-nha...</td>\n",
       "      <td>2008-01-11</td>\n",
       "      <td>\\nÔng Lục, 52 tuổi, bị nhiễm bệnh chỉ vài ngày...</td>\n",
       "    </tr>\n",
       "    <tr>\n",
       "      <th>557</th>\n",
       "      <td>Cúm gia cầm lây từ người sang người tại Trung ...</td>\n",
       "      <td>https://tuoitre.vn/cum-gia-cam-lay-tu-nguoi-sa...</td>\n",
       "      <td>2008-01-10</td>\n",
       "      <td>\\nPhóng toMột trang trại gia cầm tại Trung Quố...</td>\n",
       "    </tr>\n",
       "    <tr>\n",
       "      <th>558</th>\n",
       "      <td>Phát hiện cách virus cúm gia cầm lây truyền sa...</td>\n",
       "      <td>https://tuoitre.vn/phat-hien-cach-virus-cum-gi...</td>\n",
       "      <td>2008-01-09</td>\n",
       "      <td>\\nPhóng toỞ một chợ gà -Ảnh: A.F.PTT - Ngày 6-...</td>\n",
       "    </tr>\n",
       "    <tr>\n",
       "      <th>559</th>\n",
       "      <td>Dịch cúm gia cầm có nguy cơ tái phát</td>\n",
       "      <td>https://tuoitre.vn/dich-cum-gia-cam-co-nguy-co...</td>\n",
       "      <td>2008-01-06</td>\n",
       "      <td>\\nHiện vẫn còn tỉnh Trà Vinh và Thái Nguyên có...</td>\n",
       "    </tr>\n",
       "    <tr>\n",
       "      <th>560</th>\n",
       "      <td>Điều tra tình hình cúm gia cầm ở Sơn La</td>\n",
       "      <td>https://tuoitre.vn/dieu-tra-tinh-hinh-cum-gia-...</td>\n",
       "      <td>2008-01-02</td>\n",
       "      <td>\\nSơn La là địa phương đầu tiên có người bệnh ...</td>\n",
       "    </tr>\n",
       "  </tbody>\n",
       "</table>\n",
       "<p>561 rows × 4 columns</p>\n",
       "</div>"
      ],
      "text/plain": [
       "                                                 Title  \\\n",
       "0    Quảng Ninh phát hiện chủng cúm gia cầm lần đầu...   \n",
       "1    Trung Quốc ghi nhận ca nhiễm virus cúm gia cầm...   \n",
       "2    Mới 5 tuần đã có 40 ổ dịch cúm gia cầm, nguy c...   \n",
       "3               Lo dịch bệnh tấn công gia súc, gia cầm   \n",
       "4    Cúm gia cầm đe dọa Nhật, Hàn bị dạng cúm độc l...   \n",
       "..                                                 ...   \n",
       "556  Trung Quốc: Bộ Y tế thừa nhận khả năng cúm gia...   \n",
       "557  Cúm gia cầm lây từ người sang người tại Trung ...   \n",
       "558  Phát hiện cách virus cúm gia cầm lây truyền sa...   \n",
       "559               Dịch cúm gia cầm có nguy cơ tái phát   \n",
       "560            Điều tra tình hình cúm gia cầm ở Sơn La   \n",
       "\n",
       "                                                   URL       Date  \\\n",
       "0    https://tuoitre.vn/quang-ninh-phat-hien-chung-... 2021-07-02   \n",
       "1    https://tuoitre.vn/trung-quoc-ghi-nhan-ca-nhie... 2021-06-01   \n",
       "2    https://tuoitre.vn/moi-5-tuan-da-co-40-o-dich-... 2021-02-08   \n",
       "3    https://tuoitre.vn/lo-dich-benh-tan-cong-gia-s... 2020-12-25   \n",
       "4    https://tuoitre.vn/cum-gia-cam-de-doa-nhat-han... 2020-12-13   \n",
       "..                                                 ...        ...   \n",
       "556  https://tuoitre.vn/trung-quoc-bo-y-te-thua-nha... 2008-01-11   \n",
       "557  https://tuoitre.vn/cum-gia-cam-lay-tu-nguoi-sa... 2008-01-10   \n",
       "558  https://tuoitre.vn/phat-hien-cach-virus-cum-gi... 2008-01-09   \n",
       "559  https://tuoitre.vn/dich-cum-gia-cam-co-nguy-co... 2008-01-06   \n",
       "560  https://tuoitre.vn/dieu-tra-tinh-hinh-cum-gia-... 2008-01-02   \n",
       "\n",
       "                                               Content  \n",
       "0    \\nNgày 2-7, Chi cục Chăn nuôi và thú y tỉnh Qu...  \n",
       "1    \\nTiêm ngừa cúm cho gia cầm ở Trung Quốc - Ảnh...  \n",
       "2    \\nNguy cơ lây nhiễm cúm gia cầm sang người - Ả...  \n",
       "3    \\nMột ổ dịch cúm gia cầm tại huyện Cần Đước, L...  \n",
       "4    \\nLực lượng chức năng chuẩn bị xử lý cúm gia c...  \n",
       "..                                                 ...  \n",
       "556  \\nÔng Lục, 52 tuổi, bị nhiễm bệnh chỉ vài ngày...  \n",
       "557  \\nPhóng toMột trang trại gia cầm tại Trung Quố...  \n",
       "558  \\nPhóng toỞ một chợ gà -Ảnh: A.F.PTT - Ngày 6-...  \n",
       "559  \\nHiện vẫn còn tỉnh Trà Vinh và Thái Nguyên có...  \n",
       "560  \\nSơn La là địa phương đầu tiên có người bệnh ...  \n",
       "\n",
       "[561 rows x 4 columns]"
      ]
     },
     "execution_count": 56,
     "metadata": {},
     "output_type": "execute_result"
    }
   ],
   "source": [
    "df"
   ]
  },
  {
   "cell_type": "code",
   "execution_count": 57,
   "metadata": {},
   "outputs": [],
   "source": [
    "df.to_csv('data/tuoitre_articles_vietnamese.csv', index = False)"
   ]
  },
  {
   "cell_type": "code",
   "execution_count": 49,
   "metadata": {},
   "outputs": [],
   "source": [
    "driver.quit()"
   ]
  }
 ],
 "metadata": {
  "kernelspec": {
   "display_name": "Python 3",
   "language": "python",
   "name": "python3"
  },
  "language_info": {
   "codemirror_mode": {
    "name": "ipython",
    "version": 3
   },
   "file_extension": ".py",
   "mimetype": "text/x-python",
   "name": "python",
   "nbconvert_exporter": "python",
   "pygments_lexer": "ipython3",
   "version": "3.8.5"
  }
 },
 "nbformat": 4,
 "nbformat_minor": 4
}
