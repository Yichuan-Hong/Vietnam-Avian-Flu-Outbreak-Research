{
 "cells": [
  {
   "cell_type": "code",
   "execution_count": 1,
   "metadata": {},
   "outputs": [],
   "source": [
    "import time\n",
    "import requests\n",
    "import pandas as pd\n",
    "from bs4 import BeautifulSoup\n",
    "from datetime import datetime\n",
    "from datetime import timedelta\n",
    "from selenium import webdriver\n",
    "from urllib.request import urlopen\n",
    "from selenium.common.exceptions import TimeoutException\n",
    "from selenium.webdriver.support.wait import WebDriverWait\n",
    "from selenium.webdriver.support import expected_conditions as EC\n",
    "from selenium.webdriver.common.by import By"
   ]
  },
  {
   "cell_type": "code",
   "execution_count": 2,
   "metadata": {},
   "outputs": [],
   "source": [
    "path = '/Users/yichuanhong/Documents/Python Project/Vietnam Avian Flu Outbreak Research/NLP/chromedriver'\n",
    "url = 'https://nongnghiep.vn/c%C3%BAm+gia+c%E1%BA%A7m-search/from-to-sign-/'\n",
    "root = 'https://nongnghiep.vn/'\n",
    "df = pd.DataFrame(columns = ['Title', 'URL', 'Date', 'Content'])\n",
    "#driver = webdriver.Chrome(path)\n",
    "#driver.get(url)"
   ]
  },
  {
   "cell_type": "code",
   "execution_count": 3,
   "metadata": {},
   "outputs": [
    {
     "name": "stdout",
     "output_type": "stream",
     "text": [
      "<li class=\"news-home-item\">\n",
      "<a class=\"expthumb thumb\" href=\"https://nongnghiep.vn/truong-hop-dau-tien-tu-vong-do-cum-gia-cam-h5n1-d297678.html\" title=\"Trường hợp đầu tiên tử vong do cúm gia cầm H5N1\"><img alt=\"Trường hợp đầu tiên tử vong do cúm gia cầm H5N1\" class=\"lazyload\" data-src=\"https://thumb.ex-cdn.com/EXP/media.nongnghiep.vn/resize/600x360/files/news/2021/07/22/08_34_1981_india-bird-flu-47267-jpg-1610367371.jpg\" height=\"360\" src=\"data:image/png;base64,iVBORw0KGgoAAAANSUhEUgAAAAEAAAABCAQAAAC1HAwCAAAAC0lEQVQImWP4zwAAAgEBACqxsiUAAAAASUVORK5CYII=\" width=\"600\"/></a> <div class=\"news-info\">\n",
      "<h3 class=\"main-title main-title-sizable\"><a class=\"\" href=\"https://nongnghiep.vn/truong-hop-dau-tien-tu-vong-do-cum-gia-cam-h5n1-d297678.html\" title=\"Trường hợp đầu tiên tử vong do cúm gia cầm H5N1\">Trường hợp đầu tiên tử vong do cúm gia cầm H5N1</a></h3> <div class=\"news-cate-time\">\n",
      "<a class=\"news-cate-link\" href=\"https://nongnghiep.vn/chan-nuoi/\" title=\"Chăn nuôi\">Chăn nuôi</a>\n",
      "<span class=\"news-push-date\">\r\n",
      "                                                 22/07/2021 - 08:33                                            </span>\n",
      "</div>\n",
      "<p class=\"main-intro\">\n",
      "<span class=\"location_intro\">Ấn Độ </span>Bé trai 11 tuổi chết do lây nhiễm virus cúm gia cầm H5N1, đánh dấu trường hợp tử vong đầu tiên ở nước này, khuấy thêm nguy cơ tiềm ẩn mới giữa đại dịch Covid-19.                                        </p>\n",
      "</div>\n",
      "</li>\n"
     ]
    }
   ],
   "source": [
    "html = requests.get(url).text\n",
    "soup = BeautifulSoup(html, 'lxml')\n",
    "title = soup.find('li', class_ = 'news-home-item')\n",
    "print(title)"
   ]
  },
  {
   "cell_type": "code",
   "execution_count": 8,
   "metadata": {},
   "outputs": [
    {
     "name": "stdout",
     "output_type": "stream",
     "text": [
      "22/07/2021\n"
     ]
    }
   ],
   "source": [
    "date = title.find('span', class_ = 'news-push-date').text\n",
    "date = date.strip().split(' -')[0]\n",
    "date = datetime.strptime(date, '%d/%m/%Y')\n",
    "print(date)"
   ]
  },
  {
   "cell_type": "code",
   "execution_count": null,
   "metadata": {},
   "outputs": [],
   "source": [
    "https://nongnghiep.vn/c%C3%BAm+gia+c%E1%BA%A7m-search/from-to-sign-/p22"
   ]
  },
  {
   "cell_type": "code",
   "execution_count": 9,
   "metadata": {},
   "outputs": [],
   "source": [
    "for i in range(2, 24):\n",
    "    html = requests.get(url).text\n",
    "    soup = BeautifulSoup(html, 'lxml')\n",
    "    news = soup.find_all('li', class_ = 'news-home-item')\n",
    "    for item in news:\n",
    "        title = item.find('a', class_ = 'expthumb thumb')['title']\n",
    "        url = item.find('a', class_ = 'expthumb thumb')['href']\n",
    "        date = item.find('span', class_ = 'news-push-date').text\n",
    "        date = date.strip().split(' -')[0]\n",
    "        date = datetime.strptime(date, '%d/%m/%Y')\n",
    "        response = requests.get(url).text\n",
    "        new_soup = BeautifulSoup(response, 'lxml')\n",
    "        content = new_soup.find('div', class_ = 'content')\n",
    "        if content:\n",
    "            content = content.text\n",
    "        new_row = {'Title': title, 'URL': url, 'Date': date, 'Content': content}\n",
    "        df = df.append(new_row, ignore_index = True)\n",
    "    url = 'https://nongnghiep.vn/c%C3%BAm+gia+c%E1%BA%A7m-search/from-to-sign-/p' + str(i)"
   ]
  },
  {
   "cell_type": "code",
   "execution_count": 10,
   "metadata": {},
   "outputs": [
    {
     "data": {
      "text/html": [
       "<div>\n",
       "<style scoped>\n",
       "    .dataframe tbody tr th:only-of-type {\n",
       "        vertical-align: middle;\n",
       "    }\n",
       "\n",
       "    .dataframe tbody tr th {\n",
       "        vertical-align: top;\n",
       "    }\n",
       "\n",
       "    .dataframe thead th {\n",
       "        text-align: right;\n",
       "    }\n",
       "</style>\n",
       "<table border=\"1\" class=\"dataframe\">\n",
       "  <thead>\n",
       "    <tr style=\"text-align: right;\">\n",
       "      <th></th>\n",
       "      <th>Title</th>\n",
       "      <th>URL</th>\n",
       "      <th>Date</th>\n",
       "      <th>Content</th>\n",
       "    </tr>\n",
       "  </thead>\n",
       "  <tbody>\n",
       "    <tr>\n",
       "      <th>0</th>\n",
       "      <td>Trường hợp đầu tiên tử vong do cúm gia cầm H5N1</td>\n",
       "      <td>https://nongnghiep.vn/truong-hop-dau-tien-tu-v...</td>\n",
       "      <td>2021-07-22</td>\n",
       "      <td>\\n  Đội ngũ nhân viên y tế bắt thiên nga đi ti...</td>\n",
       "    </tr>\n",
       "    <tr>\n",
       "      <th>1</th>\n",
       "      <td>Nhận diện chủng virus cúm gia cầm độc lực cao ...</td>\n",
       "      <td>https://nongnghiep.vn/nhan-dien-chung-virus-cu...</td>\n",
       "      <td>2021-07-17</td>\n",
       "      <td>\\n  Hội thảo trực tuyến cung cấp giải pháp kỹ ...</td>\n",
       "    </tr>\n",
       "    <tr>\n",
       "      <th>2</th>\n",
       "      <td>Dấu hiệu nhận biết cúm gia cầm độc lực cao A/H5N8</td>\n",
       "      <td>https://nongnghiep.vn/dau-hieu-nhan-biet-cum-g...</td>\n",
       "      <td>2021-07-06</td>\n",
       "      <td>\\n  Chủng cúm gia cầm độc lực cao A/H5N8 không...</td>\n",
       "    </tr>\n",
       "    <tr>\n",
       "      <th>3</th>\n",
       "      <td>Khẩn trương phòng, chống cúm gia cầm độc lực cao</td>\n",
       "      <td>https://nongnghiep.vn/khan-truong-phong-chong-...</td>\n",
       "      <td>2021-07-05</td>\n",
       "      <td>\\nVirus A/H5N8 lần đầu tiên xuất hiện tại nước...</td>\n",
       "    </tr>\n",
       "    <tr>\n",
       "      <th>4</th>\n",
       "      <td>Không lơ là nguy cơ dịch bệnh gia súc, gia cầm</td>\n",
       "      <td>https://nongnghiep.vn/khong-lo-la-nguy-co-dich...</td>\n",
       "      <td>2021-07-05</td>\n",
       "      <td>\\nKiểm soát tốt một số loại dịch bệnh Những th...</td>\n",
       "    </tr>\n",
       "    <tr>\n",
       "      <th>...</th>\n",
       "      <td>...</td>\n",
       "      <td>...</td>\n",
       "      <td>...</td>\n",
       "      <td>...</td>\n",
       "    </tr>\n",
       "    <tr>\n",
       "      <th>291</th>\n",
       "      <td>Cảnh giác với cúm gia cầm</td>\n",
       "      <td>https://nongnghiep.vn/canh-giac-voi-cum-gia-ca...</td>\n",
       "      <td>2007-11-08</td>\n",
       "      <td>\\nBận lễ hội chưa tiêm vacxin ? Ông Trần Đình ...</td>\n",
       "    </tr>\n",
       "    <tr>\n",
       "      <th>292</th>\n",
       "      <td>Trời chuyển lạnh, cúm gia cầm có nguy cơ tái phát</td>\n",
       "      <td>https://nongnghiep.vn/troi-chuyen-lanh-cum-gia...</td>\n",
       "      <td>2007-10-26</td>\n",
       "      <td>\\nTừ đầu tháng 10 đến nay đã xảy ra 2 ổ dịch C...</td>\n",
       "    </tr>\n",
       "    <tr>\n",
       "      <th>293</th>\n",
       "      <td>Cúm gia cầm tái phát ở miền Trung</td>\n",
       "      <td>https://nongnghiep.vn/cum-gia-cam-tai-phat-o-m...</td>\n",
       "      <td>2007-10-25</td>\n",
       "      <td>\\n          Từ nay đến cuối năm, nhiều nguy cơ...</td>\n",
       "    </tr>\n",
       "    <tr>\n",
       "      <th>294</th>\n",
       "      <td>Cúm gia cầm tái xuất hiện tại Trà Vinh: Nguy c...</td>\n",
       "      <td>https://nongnghiep.vn/cum-gia-cam-tai-xuat-hie...</td>\n",
       "      <td>2007-10-15</td>\n",
       "      <td>\\n* Hải Dương có dịch “tai xanh” Theo báo cáo ...</td>\n",
       "    </tr>\n",
       "    <tr>\n",
       "      <th>295</th>\n",
       "      <td>Nguy cơ bùng phát dịch cúm gia cầm rất cao!</td>\n",
       "      <td>https://nongnghiep.vn/nguy-co-bung-phat-dich-c...</td>\n",
       "      <td>2007-10-11</td>\n",
       "      <td>\\n        Tháng 11 có thể bắt đầu có dịch cúm ...</td>\n",
       "    </tr>\n",
       "  </tbody>\n",
       "</table>\n",
       "<p>296 rows × 4 columns</p>\n",
       "</div>"
      ],
      "text/plain": [
       "                                                 Title  \\\n",
       "0      Trường hợp đầu tiên tử vong do cúm gia cầm H5N1   \n",
       "1    Nhận diện chủng virus cúm gia cầm độc lực cao ...   \n",
       "2    Dấu hiệu nhận biết cúm gia cầm độc lực cao A/H5N8   \n",
       "3     Khẩn trương phòng, chống cúm gia cầm độc lực cao   \n",
       "4       Không lơ là nguy cơ dịch bệnh gia súc, gia cầm   \n",
       "..                                                 ...   \n",
       "291                          Cảnh giác với cúm gia cầm   \n",
       "292  Trời chuyển lạnh, cúm gia cầm có nguy cơ tái phát   \n",
       "293                 Cúm gia cầm tái phát ở miền Trung    \n",
       "294  Cúm gia cầm tái xuất hiện tại Trà Vinh: Nguy c...   \n",
       "295        Nguy cơ bùng phát dịch cúm gia cầm rất cao!   \n",
       "\n",
       "                                                   URL       Date  \\\n",
       "0    https://nongnghiep.vn/truong-hop-dau-tien-tu-v... 2021-07-22   \n",
       "1    https://nongnghiep.vn/nhan-dien-chung-virus-cu... 2021-07-17   \n",
       "2    https://nongnghiep.vn/dau-hieu-nhan-biet-cum-g... 2021-07-06   \n",
       "3    https://nongnghiep.vn/khan-truong-phong-chong-... 2021-07-05   \n",
       "4    https://nongnghiep.vn/khong-lo-la-nguy-co-dich... 2021-07-05   \n",
       "..                                                 ...        ...   \n",
       "291  https://nongnghiep.vn/canh-giac-voi-cum-gia-ca... 2007-11-08   \n",
       "292  https://nongnghiep.vn/troi-chuyen-lanh-cum-gia... 2007-10-26   \n",
       "293  https://nongnghiep.vn/cum-gia-cam-tai-phat-o-m... 2007-10-25   \n",
       "294  https://nongnghiep.vn/cum-gia-cam-tai-xuat-hie... 2007-10-15   \n",
       "295  https://nongnghiep.vn/nguy-co-bung-phat-dich-c... 2007-10-11   \n",
       "\n",
       "                                               Content  \n",
       "0    \\n  Đội ngũ nhân viên y tế bắt thiên nga đi ti...  \n",
       "1    \\n  Hội thảo trực tuyến cung cấp giải pháp kỹ ...  \n",
       "2    \\n  Chủng cúm gia cầm độc lực cao A/H5N8 không...  \n",
       "3    \\nVirus A/H5N8 lần đầu tiên xuất hiện tại nước...  \n",
       "4    \\nKiểm soát tốt một số loại dịch bệnh Những th...  \n",
       "..                                                 ...  \n",
       "291  \\nBận lễ hội chưa tiêm vacxin ? Ông Trần Đình ...  \n",
       "292  \\nTừ đầu tháng 10 đến nay đã xảy ra 2 ổ dịch C...  \n",
       "293  \\n          Từ nay đến cuối năm, nhiều nguy cơ...  \n",
       "294  \\n* Hải Dương có dịch “tai xanh” Theo báo cáo ...  \n",
       "295  \\n        Tháng 11 có thể bắt đầu có dịch cúm ...  \n",
       "\n",
       "[296 rows x 4 columns]"
      ]
     },
     "execution_count": 10,
     "metadata": {},
     "output_type": "execute_result"
    }
   ],
   "source": [
    "df"
   ]
  },
  {
   "cell_type": "code",
   "execution_count": 11,
   "metadata": {},
   "outputs": [],
   "source": [
    "df.to_csv('data/nongnghiep_articles_vietnamese.csv', index = False)"
   ]
  },
  {
   "cell_type": "code",
   "execution_count": null,
   "metadata": {},
   "outputs": [],
   "source": []
  }
 ],
 "metadata": {
  "kernelspec": {
   "display_name": "Python 3",
   "language": "python",
   "name": "python3"
  },
  "language_info": {
   "codemirror_mode": {
    "name": "ipython",
    "version": 3
   },
   "file_extension": ".py",
   "mimetype": "text/x-python",
   "name": "python",
   "nbconvert_exporter": "python",
   "pygments_lexer": "ipython3",
   "version": "3.8.5"
  }
 },
 "nbformat": 4,
 "nbformat_minor": 4
}
