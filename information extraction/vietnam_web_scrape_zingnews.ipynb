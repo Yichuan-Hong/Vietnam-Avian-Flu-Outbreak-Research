{
 "cells": [
  {
   "cell_type": "code",
   "execution_count": 1,
   "metadata": {},
   "outputs": [],
   "source": [
    "import time\n",
    "import requests\n",
    "import pandas as pd\n",
    "from bs4 import BeautifulSoup\n",
    "from datetime import datetime\n",
    "from datetime import timedelta\n",
    "from selenium import webdriver\n",
    "from urllib.request import urlopen\n",
    "from selenium.common.exceptions import TimeoutException\n",
    "from selenium.webdriver.support.wait import WebDriverWait\n",
    "from selenium.webdriver.support import expected_conditions as EC\n",
    "from selenium.webdriver.common.by import By"
   ]
  },
  {
   "cell_type": "code",
   "execution_count": 18,
   "metadata": {},
   "outputs": [],
   "source": [
    "path = '/Users/yichuanhong/Documents/Python Project/Vietnam Avian Flu Outbreak Research/NLP/chromedriver'\n",
    "url = 'https://zingnews.vn/c%C3%BAm-gia-c%E1%BA%A7m-tim-kiem.html'\n",
    "root = 'https://zingnews.vn'\n",
    "df = pd.DataFrame(columns = ['Title', 'URL', 'Date', 'Content'])\n",
    "driver = webdriver.Chrome(path)\n",
    "driver.get(url)"
   ]
  },
  {
   "cell_type": "code",
   "execution_count": 19,
   "metadata": {},
   "outputs": [
    {
     "name": "stdout",
     "output_type": "stream",
     "text": [
      "Reached bottom of page\n"
     ]
    }
   ],
   "source": [
    "for i in range(30):\n",
    "    driver.execute_script(\"window.scrollTo(0, document.body.scrollHeight);\")\n",
    "    time.sleep(1)\n",
    "print('Reached bottom of page')"
   ]
  },
  {
   "cell_type": "code",
   "execution_count": 20,
   "metadata": {},
   "outputs": [],
   "source": [
    "soup = BeautifulSoup(driver.page_source)"
   ]
  },
  {
   "cell_type": "code",
   "execution_count": 21,
   "metadata": {},
   "outputs": [],
   "source": [
    "news = soup.find_all('article')\n",
    "for item in news:\n",
    "    title = item.find('p', class_ = 'article-title').text\n",
    "    date = item.find('span', class_ = 'date').text\n",
    "    sub_url = item.find('p', class_ = 'article-title').find('a')['href']\n",
    "    if sub_url.startswith('https'):\n",
    "        url = sub_url\n",
    "    else:\n",
    "        url = root + sub_url\n",
    "    response = requests.get(url).text\n",
    "    new_soup = BeautifulSoup(response, 'lxml')\n",
    "    content = new_soup.find('div', class_ = 'the-article-body')\n",
    "    if content:\n",
    "        content = content.text\n",
    "    new_row = {'Title': title, 'URL': url, 'Date': date, 'Content': content}\n",
    "    df = df.append(new_row, ignore_index = True)"
   ]
  },
  {
   "cell_type": "code",
   "execution_count": 22,
   "metadata": {},
   "outputs": [
    {
     "data": {
      "text/html": [
       "<div>\n",
       "<style scoped>\n",
       "    .dataframe tbody tr th:only-of-type {\n",
       "        vertical-align: middle;\n",
       "    }\n",
       "\n",
       "    .dataframe tbody tr th {\n",
       "        vertical-align: top;\n",
       "    }\n",
       "\n",
       "    .dataframe thead th {\n",
       "        text-align: right;\n",
       "    }\n",
       "</style>\n",
       "<table border=\"1\" class=\"dataframe\">\n",
       "  <thead>\n",
       "    <tr style=\"text-align: right;\">\n",
       "      <th></th>\n",
       "      <th>Title</th>\n",
       "      <th>URL</th>\n",
       "      <th>Date</th>\n",
       "      <th>Content</th>\n",
       "    </tr>\n",
       "  </thead>\n",
       "  <tbody>\n",
       "    <tr>\n",
       "      <th>0</th>\n",
       "      <td>\\nẤn Độ có ca tử vong đầu tiên do virus cúm H5...</td>\n",
       "      <td>https://zingnews.vn/an-do-co-ca-tu-vong-dau-ti...</td>\n",
       "      <td>22/7/2021</td>\n",
       "      <td>\\nNhà chức trách nói rằng các nhân viên y tế t...</td>\n",
       "    </tr>\n",
       "    <tr>\n",
       "      <th>1</th>\n",
       "      <td>\\nTrung Quốc phát hiện người mắc cúm gia cầm H...</td>\n",
       "      <td>https://zingnews.vn/trung-quoc-phat-hien-nguoi...</td>\n",
       "      <td>15/7/2021</td>\n",
       "      <td>\\nTheo China Global Television Network, người ...</td>\n",
       "    </tr>\n",
       "    <tr>\n",
       "      <th>2</th>\n",
       "      <td>\\nBệnh viện quá tải, Indonesia điều trị từ xa ...</td>\n",
       "      <td>https://zingnews.vn/benh-vien-qua-tai-indonesi...</td>\n",
       "      <td>6/7/2021</td>\n",
       "      <td>\\nĐến ngày 5/7, Indonesia đang phải điều trị c...</td>\n",
       "    </tr>\n",
       "    <tr>\n",
       "      <th>3</th>\n",
       "      <td>\\nNguồn lây của chủng cúm mới xuất hiện tại Vi...</td>\n",
       "      <td>https://zingnews.vn/nguon-lay-cua-chung-cum-mo...</td>\n",
       "      <td>3/7/2021</td>\n",
       "      <td>\\nNgày 3/7, đại diện Chi cục Chăn nuôi và Thú ...</td>\n",
       "    </tr>\n",
       "    <tr>\n",
       "      <th>4</th>\n",
       "      <td>\\nQuảng Ninh xuất hiện chủng cúm gia cầm lần đ...</td>\n",
       "      <td>https://zingnews.vn/quang-ninh-xuat-hien-chung...</td>\n",
       "      <td>2/7/2021</td>\n",
       "      <td>\\nTrước đó, từ ngày 29/6, trại gà của anh Nguy...</td>\n",
       "    </tr>\n",
       "    <tr>\n",
       "      <th>...</th>\n",
       "      <td>...</td>\n",
       "      <td>...</td>\n",
       "      <td>...</td>\n",
       "      <td>...</td>\n",
       "    </tr>\n",
       "    <tr>\n",
       "      <th>221</th>\n",
       "      <td>\\nDịch cúm gia cầm ở Trung Quốc có thể làm giá...</td>\n",
       "      <td>https://zingnews.vn/dich-cum-gia-cam-o-trung-q...</td>\n",
       "      <td>7/4/2013</td>\n",
       "      <td>\\nDịch cúm gia cầm ở Trung Quốc có thể làm giá...</td>\n",
       "    </tr>\n",
       "    <tr>\n",
       "      <th>222</th>\n",
       "      <td>\\nNgười thứ 6 chết vì cúm H7N9, nguy cơ đại dị...</td>\n",
       "      <td>https://zingnews.vn/nguoi-thu-6-chet-vi-cum-h7...</td>\n",
       "      <td>6/4/2013</td>\n",
       "      <td>\\nNgười thứ 6 chết vì cúm H7N9, nguy cơ đại dị...</td>\n",
       "    </tr>\n",
       "    <tr>\n",
       "      <th>223</th>\n",
       "      <td>\\nCấm vận chuyển gia cầm từ Campuchia vào Việt...</td>\n",
       "      <td>https://zingnews.vn/cam-van-chuyen-gia-cam-tu-...</td>\n",
       "      <td>19/3/2013</td>\n",
       "      <td>\\n \\nCấm vận chuyển gia cầm từ Campuchia vào V...</td>\n",
       "    </tr>\n",
       "    <tr>\n",
       "      <th>224</th>\n",
       "      <td>\\nTeen mạo hiểm nuôi rắn làm thú cưng\\n</td>\n",
       "      <td>https://zingnews.vn/teen-mao-hiem-nuoi-ran-lam...</td>\n",
       "      <td>6/2/2013</td>\n",
       "      <td>\\nTeen mạo hiểm nuôi rắn làm thú cưng\\n“Nuôi c...</td>\n",
       "    </tr>\n",
       "    <tr>\n",
       "      <th>225</th>\n",
       "      <td>\\nGiới trẻ săn lùng rắn phong thủy để... giải ...</td>\n",
       "      <td>https://zingnews.vn/gioi-tre-san-lung-ran-phon...</td>\n",
       "      <td>2/2/2013</td>\n",
       "      <td>\\nGiới trẻ săn lùng rắn phong thủy để... giải ...</td>\n",
       "    </tr>\n",
       "  </tbody>\n",
       "</table>\n",
       "<p>226 rows × 4 columns</p>\n",
       "</div>"
      ],
      "text/plain": [
       "                                                 Title  \\\n",
       "0    \\nẤn Độ có ca tử vong đầu tiên do virus cúm H5...   \n",
       "1    \\nTrung Quốc phát hiện người mắc cúm gia cầm H...   \n",
       "2    \\nBệnh viện quá tải, Indonesia điều trị từ xa ...   \n",
       "3    \\nNguồn lây của chủng cúm mới xuất hiện tại Vi...   \n",
       "4    \\nQuảng Ninh xuất hiện chủng cúm gia cầm lần đ...   \n",
       "..                                                 ...   \n",
       "221  \\nDịch cúm gia cầm ở Trung Quốc có thể làm giá...   \n",
       "222  \\nNgười thứ 6 chết vì cúm H7N9, nguy cơ đại dị...   \n",
       "223  \\nCấm vận chuyển gia cầm từ Campuchia vào Việt...   \n",
       "224            \\nTeen mạo hiểm nuôi rắn làm thú cưng\\n   \n",
       "225  \\nGiới trẻ săn lùng rắn phong thủy để... giải ...   \n",
       "\n",
       "                                                   URL       Date  \\\n",
       "0    https://zingnews.vn/an-do-co-ca-tu-vong-dau-ti...  22/7/2021   \n",
       "1    https://zingnews.vn/trung-quoc-phat-hien-nguoi...  15/7/2021   \n",
       "2    https://zingnews.vn/benh-vien-qua-tai-indonesi...   6/7/2021   \n",
       "3    https://zingnews.vn/nguon-lay-cua-chung-cum-mo...   3/7/2021   \n",
       "4    https://zingnews.vn/quang-ninh-xuat-hien-chung...   2/7/2021   \n",
       "..                                                 ...        ...   \n",
       "221  https://zingnews.vn/dich-cum-gia-cam-o-trung-q...   7/4/2013   \n",
       "222  https://zingnews.vn/nguoi-thu-6-chet-vi-cum-h7...   6/4/2013   \n",
       "223  https://zingnews.vn/cam-van-chuyen-gia-cam-tu-...  19/3/2013   \n",
       "224  https://zingnews.vn/teen-mao-hiem-nuoi-ran-lam...   6/2/2013   \n",
       "225  https://zingnews.vn/gioi-tre-san-lung-ran-phon...   2/2/2013   \n",
       "\n",
       "                                               Content  \n",
       "0    \\nNhà chức trách nói rằng các nhân viên y tế t...  \n",
       "1    \\nTheo China Global Television Network, người ...  \n",
       "2    \\nĐến ngày 5/7, Indonesia đang phải điều trị c...  \n",
       "3    \\nNgày 3/7, đại diện Chi cục Chăn nuôi và Thú ...  \n",
       "4    \\nTrước đó, từ ngày 29/6, trại gà của anh Nguy...  \n",
       "..                                                 ...  \n",
       "221  \\nDịch cúm gia cầm ở Trung Quốc có thể làm giá...  \n",
       "222  \\nNgười thứ 6 chết vì cúm H7N9, nguy cơ đại dị...  \n",
       "223  \\n \\nCấm vận chuyển gia cầm từ Campuchia vào V...  \n",
       "224  \\nTeen mạo hiểm nuôi rắn làm thú cưng\\n“Nuôi c...  \n",
       "225  \\nGiới trẻ săn lùng rắn phong thủy để... giải ...  \n",
       "\n",
       "[226 rows x 4 columns]"
      ]
     },
     "execution_count": 22,
     "metadata": {},
     "output_type": "execute_result"
    }
   ],
   "source": [
    "df"
   ]
  },
  {
   "cell_type": "code",
   "execution_count": 23,
   "metadata": {},
   "outputs": [],
   "source": [
    "df.to_csv('data/zingnews_articles_vietnamese.csv', index = False)"
   ]
  },
  {
   "cell_type": "code",
   "execution_count": 24,
   "metadata": {},
   "outputs": [],
   "source": [
    "driver.quit()"
   ]
  },
  {
   "cell_type": "code",
   "execution_count": null,
   "metadata": {},
   "outputs": [],
   "source": []
  }
 ],
 "metadata": {
  "kernelspec": {
   "display_name": "Python 3",
   "language": "python",
   "name": "python3"
  },
  "language_info": {
   "codemirror_mode": {
    "name": "ipython",
    "version": 3
   },
   "file_extension": ".py",
   "mimetype": "text/x-python",
   "name": "python",
   "nbconvert_exporter": "python",
   "pygments_lexer": "ipython3",
   "version": "3.8.5"
  }
 },
 "nbformat": 4,
 "nbformat_minor": 4
}
