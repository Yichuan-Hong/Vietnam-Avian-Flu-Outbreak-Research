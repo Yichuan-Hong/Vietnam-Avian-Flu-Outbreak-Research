{
 "cells": [
  {
   "cell_type": "code",
   "execution_count": 16,
   "metadata": {},
   "outputs": [],
   "source": [
    "import requests\n",
    "import pandas as pd\n",
    "from datetime import datetime\n",
    "from datetime import timedelta\n",
    "from bs4 import BeautifulSoup\n",
    "from urllib.request import urlopen"
   ]
  },
  {
   "cell_type": "code",
   "execution_count": 43,
   "metadata": {},
   "outputs": [],
   "source": [
    "link = 'https://thanhnien.vn/tim-kiem/Y8O6bSBnaWEgY-G6p20=/cum-gia-cam.html?m=0&t=&c=0&y=-1&o='\n",
    "root = 'https://thanhnien.vn'\n",
    "df = pd.DataFrame(columns = ['Title', 'URL', 'Date', 'Content'])"
   ]
  },
  {
   "cell_type": "code",
   "execution_count": 44,
   "metadata": {},
   "outputs": [],
   "source": [
    "def scrape_thanhnien(link, cur_link, root, df, start=0, end=15):\n",
    "    if start == end:\n",
    "        return df\n",
    "    html = requests.get(cur_link).text\n",
    "    soup = BeautifulSoup(html, 'lxml')\n",
    "    news = soup.find_all('article', class_ = 'story')\n",
    "    for item in news:\n",
    "        title = item.find('a', class_ = 'story__thumb')['title']\n",
    "        sub_url = item.find('a', class_ = 'story__thumb')['href']\n",
    "        date = datetime.strptime(item.find('time', class_ = 'timebox').text, '%H:%M, %d/%m/%Y')\n",
    "        if sub_url.startswith('https'):\n",
    "            url = sub_url\n",
    "            response = requests.get(url).text\n",
    "        else:\n",
    "            url = root + sub_url\n",
    "            response = requests.get(url).text\n",
    "        new_soup = BeautifulSoup(response, 'lxml')\n",
    "        content = new_soup.find('div', class_ = 'cms-body detail').text\n",
    "        new_row = {'Title': title, 'URL': url, 'Date': date, 'Content': content}\n",
    "        df = df.append(new_row, ignore_index = True)\n",
    "    start += 1\n",
    "    next = link + '&p=' + str(start)\n",
    "    return scrape_thanhnien(link, next, root, df, start, end)"
   ]
  },
  {
   "cell_type": "code",
   "execution_count": 45,
   "metadata": {},
   "outputs": [],
   "source": [
    "df = scrape_thanhnien(link, link, root, df)"
   ]
  },
  {
   "cell_type": "code",
   "execution_count": 46,
   "metadata": {},
   "outputs": [
    {
     "data": {
      "text/html": [
       "<div>\n",
       "<style scoped>\n",
       "    .dataframe tbody tr th:only-of-type {\n",
       "        vertical-align: middle;\n",
       "    }\n",
       "\n",
       "    .dataframe tbody tr th {\n",
       "        vertical-align: top;\n",
       "    }\n",
       "\n",
       "    .dataframe thead th {\n",
       "        text-align: right;\n",
       "    }\n",
       "</style>\n",
       "<table border=\"1\" class=\"dataframe\">\n",
       "  <thead>\n",
       "    <tr style=\"text-align: right;\">\n",
       "      <th></th>\n",
       "      <th>Title</th>\n",
       "      <th>URL</th>\n",
       "      <th>Date</th>\n",
       "      <th>Content</th>\n",
       "    </tr>\n",
       "  </thead>\n",
       "  <tbody>\n",
       "    <tr>\n",
       "      <th>0</th>\n",
       "      <td>Trung Quốc ghi nhận ca cúm gia cầm H5N6 ở người</td>\n",
       "      <td>https://thanhnien.vn/the-gioi/trung-quoc-ghi-n...</td>\n",
       "      <td>2021-07-16 07:00:00</td>\n",
       "      <td>\\nBệnh nhân là người đàn ông 55 tuổi, đã được ...</td>\n",
       "    </tr>\n",
       "    <tr>\n",
       "      <th>1</th>\n",
       "      <td>3 tỉnh có cúm gia cầm A/H5N8 thể độc lực cao, ...</td>\n",
       "      <td>https://thanhnien.vn/tai-chinh-kinh-doanh/3-ti...</td>\n",
       "      <td>2021-07-06 15:21:00</td>\n",
       "      <td>\\nNgày 6.7, thông tin từ Bộ NN-PTNT cho biết, ...</td>\n",
       "    </tr>\n",
       "    <tr>\n",
       "      <th>2</th>\n",
       "      <td>Cúm gia cầm H5N8 sẽ là đại dịch kế tiếp?</td>\n",
       "      <td>https://thanhnien.vn/video/the-gioi/cum-gia-ca...</td>\n",
       "      <td>2021-06-27 08:00:00</td>\n",
       "      <td>\\nCác chuyên gia đã viết một bài báo trên tạp ...</td>\n",
       "    </tr>\n",
       "    <tr>\n",
       "      <th>3</th>\n",
       "      <td>Nga ghi nhận trường hợp người nhiễm cúm gia cầ...</td>\n",
       "      <td>https://thanhnien.vn/the-gioi/nga-ghi-nhan-tru...</td>\n",
       "      <td>2021-02-21 09:14:00</td>\n",
       "      <td>\\nĐợt bùng phát virus H5N8 đã được ghi nhận ở ...</td>\n",
       "    </tr>\n",
       "    <tr>\n",
       "      <th>4</th>\n",
       "      <td>Cà Mau: Phát hiện ổ cúm gia cầm H5N1 ở H.Trần ...</td>\n",
       "      <td>https://thanhnien.vn/thoi-su/ca-mau-phat-hien-...</td>\n",
       "      <td>2020-09-07 17:06:00</td>\n",
       "      <td>\\nNgày 7.9, tin từ UBND xã Khánh Bình Đông, H....</td>\n",
       "    </tr>\n",
       "    <tr>\n",
       "      <th>...</th>\n",
       "      <td>...</td>\n",
       "      <td>...</td>\n",
       "      <td>...</td>\n",
       "      <td>...</td>\n",
       "    </tr>\n",
       "    <tr>\n",
       "      <th>295</th>\n",
       "      <td>Nhật Bản: Lập kho dự trữ vắc-xin phòng cúm gia...</td>\n",
       "      <td>https://thanhnien.vn/the-gioi/nhat-ban-lap-kho...</td>\n",
       "      <td>2007-01-04 16:08:00</td>\n",
       "      <td>\\nChính phủ Nhật Bản sẽ xem xét thông qua kế h...</td>\n",
       "    </tr>\n",
       "    <tr>\n",
       "      <th>296</th>\n",
       "      <td>Kiểm tra công tác phòng chống dịch cúm gia cầm...</td>\n",
       "      <td>https://thanhnien.vn/thoi-su/kiem-tra-cong-tac...</td>\n",
       "      <td>2007-01-04 00:24:00</td>\n",
       "      <td>\\nCùng ngày,  Cục Thú y cho biết, hiện nay dịc...</td>\n",
       "    </tr>\n",
       "    <tr>\n",
       "      <th>297</th>\n",
       "      <td>T.Ư Đoàn: Khẩn trương tổ chức lực lượng thanh ...</td>\n",
       "      <td>https://thanhnien.vn/gioi-tre/tu-doan-khan-tru...</td>\n",
       "      <td>2007-01-03 22:12:00</td>\n",
       "      <td>\\nTheo đó, các tỉnh, thành đoàn triển khai nga...</td>\n",
       "    </tr>\n",
       "    <tr>\n",
       "      <th>298</th>\n",
       "      <td>Thêm 5 tỉnh nằm trong vùng nguy hiểm của dịch ...</td>\n",
       "      <td>https://thanhnien.vn/thoi-su/them-5-tinh-nam-t...</td>\n",
       "      <td>2007-01-02 23:24:00</td>\n",
       "      <td>\\nĐó là các tỉnh Quảng Nam, Quảng Ngãi, Bắc Gi...</td>\n",
       "    </tr>\n",
       "    <tr>\n",
       "      <th>299</th>\n",
       "      <td>Quảng Ngãi: Phê bình lãnh đạo 5 huyện, thành p...</td>\n",
       "      <td>https://thanhnien.vn/thoi-su/quang-ngai-phe-bi...</td>\n",
       "      <td>2007-01-01 23:49:00</td>\n",
       "      <td>\\nUBND tỉnh yêu cầu các địa phương coi việc ph...</td>\n",
       "    </tr>\n",
       "  </tbody>\n",
       "</table>\n",
       "<p>300 rows × 4 columns</p>\n",
       "</div>"
      ],
      "text/plain": [
       "                                                 Title  \\\n",
       "0      Trung Quốc ghi nhận ca cúm gia cầm H5N6 ở người   \n",
       "1    3 tỉnh có cúm gia cầm A/H5N8 thể độc lực cao, ...   \n",
       "2             Cúm gia cầm H5N8 sẽ là đại dịch kế tiếp?   \n",
       "3    Nga ghi nhận trường hợp người nhiễm cúm gia cầ...   \n",
       "4    Cà Mau: Phát hiện ổ cúm gia cầm H5N1 ở H.Trần ...   \n",
       "..                                                 ...   \n",
       "295  Nhật Bản: Lập kho dự trữ vắc-xin phòng cúm gia...   \n",
       "296  Kiểm tra công tác phòng chống dịch cúm gia cầm...   \n",
       "297  T.Ư Đoàn: Khẩn trương tổ chức lực lượng thanh ...   \n",
       "298  Thêm 5 tỉnh nằm trong vùng nguy hiểm của dịch ...   \n",
       "299  Quảng Ngãi: Phê bình lãnh đạo 5 huyện, thành p...   \n",
       "\n",
       "                                                   URL                Date  \\\n",
       "0    https://thanhnien.vn/the-gioi/trung-quoc-ghi-n... 2021-07-16 07:00:00   \n",
       "1    https://thanhnien.vn/tai-chinh-kinh-doanh/3-ti... 2021-07-06 15:21:00   \n",
       "2    https://thanhnien.vn/video/the-gioi/cum-gia-ca... 2021-06-27 08:00:00   \n",
       "3    https://thanhnien.vn/the-gioi/nga-ghi-nhan-tru... 2021-02-21 09:14:00   \n",
       "4    https://thanhnien.vn/thoi-su/ca-mau-phat-hien-... 2020-09-07 17:06:00   \n",
       "..                                                 ...                 ...   \n",
       "295  https://thanhnien.vn/the-gioi/nhat-ban-lap-kho... 2007-01-04 16:08:00   \n",
       "296  https://thanhnien.vn/thoi-su/kiem-tra-cong-tac... 2007-01-04 00:24:00   \n",
       "297  https://thanhnien.vn/gioi-tre/tu-doan-khan-tru... 2007-01-03 22:12:00   \n",
       "298  https://thanhnien.vn/thoi-su/them-5-tinh-nam-t... 2007-01-02 23:24:00   \n",
       "299  https://thanhnien.vn/thoi-su/quang-ngai-phe-bi... 2007-01-01 23:49:00   \n",
       "\n",
       "                                               Content  \n",
       "0    \\nBệnh nhân là người đàn ông 55 tuổi, đã được ...  \n",
       "1    \\nNgày 6.7, thông tin từ Bộ NN-PTNT cho biết, ...  \n",
       "2    \\nCác chuyên gia đã viết một bài báo trên tạp ...  \n",
       "3    \\nĐợt bùng phát virus H5N8 đã được ghi nhận ở ...  \n",
       "4    \\nNgày 7.9, tin từ UBND xã Khánh Bình Đông, H....  \n",
       "..                                                 ...  \n",
       "295  \\nChính phủ Nhật Bản sẽ xem xét thông qua kế h...  \n",
       "296  \\nCùng ngày,  Cục Thú y cho biết, hiện nay dịc...  \n",
       "297  \\nTheo đó, các tỉnh, thành đoàn triển khai nga...  \n",
       "298  \\nĐó là các tỉnh Quảng Nam, Quảng Ngãi, Bắc Gi...  \n",
       "299  \\nUBND tỉnh yêu cầu các địa phương coi việc ph...  \n",
       "\n",
       "[300 rows x 4 columns]"
      ]
     },
     "execution_count": 46,
     "metadata": {},
     "output_type": "execute_result"
    }
   ],
   "source": [
    "df"
   ]
  },
  {
   "cell_type": "code",
   "execution_count": 47,
   "metadata": {},
   "outputs": [
    {
     "name": "stdout",
     "output_type": "stream",
     "text": [
      "2007-01-01 23:49:00 2021-07-16 07:00:00\n"
     ]
    }
   ],
   "source": [
    "print(df['Date'].min(), df['Date'].max())"
   ]
  },
  {
   "cell_type": "code",
   "execution_count": 48,
   "metadata": {},
   "outputs": [],
   "source": [
    "df.to_csv('data/thanhnien_articles_vietnamese.csv', index = False)"
   ]
  },
  {
   "cell_type": "code",
   "execution_count": null,
   "metadata": {},
   "outputs": [],
   "source": []
  }
 ],
 "metadata": {
  "kernelspec": {
   "display_name": "Python 3",
   "language": "python",
   "name": "python3"
  },
  "language_info": {
   "codemirror_mode": {
    "name": "ipython",
    "version": 3
   },
   "file_extension": ".py",
   "mimetype": "text/x-python",
   "name": "python",
   "nbconvert_exporter": "python",
   "pygments_lexer": "ipython3",
   "version": "3.8.5"
  }
 },
 "nbformat": 4,
 "nbformat_minor": 4
}
