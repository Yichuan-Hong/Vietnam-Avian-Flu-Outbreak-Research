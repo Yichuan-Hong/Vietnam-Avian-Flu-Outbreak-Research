{
 "cells": [
  {
   "cell_type": "code",
   "execution_count": 89,
   "metadata": {
    "id": "HH3efuDQ9g7t"
   },
   "outputs": [],
   "source": [
    "import requests\n",
    "import pandas as pd\n",
    "from datetime import datetime\n",
    "from datetime import timedelta\n",
    "from bs4 import BeautifulSoup\n",
    "from urllib.request import urlopen"
   ]
  },
  {
   "cell_type": "markdown",
   "metadata": {},
   "source": [
    "## Search words 'vietnam avian flu outbreak'"
   ]
  },
  {
   "cell_type": "code",
   "execution_count": 102,
   "metadata": {
    "id": "3SFiRLm3WMP-"
   },
   "outputs": [],
   "source": [
    "query = 'vietnam+avian+flu+outbreak'\n",
    "root = 'https://www.google.com'\n",
    "first = 'https://www.google.com/search?q='\n",
    "second = '&biw=1562&bih=885&tbm=nws&sxsrf=ALeKk03WlVR2nPWbPRVygSKAzqjuqBgT3Q%3A1625868930650&ei=gsroYLmeJ8f5-gTZvJqoCQ&oq=vietnam+avian+flu+outbreak&gs_l=psy-ab.3...2587.11721.0.11992.0.0.0.0.0.0.0.0..0.0....0...1c.1.64.psy-ab..0.0.0....0.ZkyOL4xosY8'\n",
    "link = first + query + second\n",
    "df = pd.DataFrame(columns = ['Title', 'URL', 'Date', 'Content'])"
   ]
  },
  {
   "cell_type": "code",
   "execution_count": 91,
   "metadata": {},
   "outputs": [
    {
     "data": {
      "text/plain": [
       "'https://www.google.com/search?q=vietnam+avian+flu+outbreak&biw=1562&bih=885&tbm=nws&sxsrf=ALeKk03WlVR2nPWbPRVygSKAzqjuqBgT3Q%3A1625868930650&ei=gsroYLmeJ8f5-gTZvJqoCQ&oq=vietnam+avian+flu+outbreak&gs_l=psy-ab.3...2587.11721.0.11992.0.0.0.0.0.0.0.0..0.0....0...1c.1.64.psy-ab..0.0.0....0.ZkyOL4xosY8'"
      ]
     },
     "execution_count": 91,
     "metadata": {},
     "output_type": "execute_result"
    }
   ],
   "source": [
    "link"
   ]
  },
  {
   "cell_type": "code",
   "execution_count": 4,
   "metadata": {
    "id": "Znl_YiGviDxK"
   },
   "outputs": [],
   "source": [
    "# def scrape_google_news(link):\n",
    "#    html = requests.get(link).text\n",
    "#    soup = BeautifulSoup(html, 'lxml')\n",
    "#    news = soup.find_all('div', class_ = 'ZINbbc xpd O9g5cc uUPGi')\n",
    "#    for item in news:\n",
    "#        title = item.find('div', class_ = 'BNeawe vvjwJb AP7Wnd').text\n",
    "#        url = item.find('a', href = True)['href'].split('/url?q=')[1]\n",
    "#        date = item.find('span', class_ = 'r0bn4c rQMQod').text\n",
    "#        print(title)\n",
    "#        print(url)\n",
    "#        print(date)\n",
    "#        print()\n",
    "#        document = open('google_news_data.csv', 'a')\n",
    "#        document.write('{}, {}, {} \\n'.format(title, url, date))\n",
    "#        document.close()\n",
    "#    next = soup.find('a', class_ = 'nBDE1b G5eFlf')['href']\n",
    "#    link = root + next\n",
    "#    scrape_google_news(link)"
   ]
  },
  {
   "cell_type": "code",
   "execution_count": 98,
   "metadata": {},
   "outputs": [],
   "source": [
    "def scrape_google_news(link, df, start, end):\n",
    "    if start == end:\n",
    "        return df\n",
    "    html = requests.get(link).text\n",
    "    soup = BeautifulSoup(html, 'lxml')\n",
    "    news = soup.find_all('div', class_ = 'ZINbbc xpd O9g5cc uUPGi')\n",
    "    for item in news:\n",
    "        title = item.find('div', class_ = 'BNeawe vvjwJb AP7Wnd').text\n",
    "        url = item.find('a', href = True)['href'].split('/url?q=')[1]\n",
    "        time = item.find('span', class_ = 'r0bn4c rQMQod').text\n",
    "        d = get_date(time, date.today())\n",
    "        content = item.find('div', class_ = 'BNeawe s3v9rd AP7Wnd').text.split(' · ')[1]\n",
    "        new_row = {'Title': title, 'URL': url, 'Date': d, 'Content': content}\n",
    "        df = df.append(new_row, ignore_index = True)\n",
    "    next = soup.find('a', class_ = 'nBDE1b G5eFlf')['href']\n",
    "    link = root + next\n",
    "    start += 1\n",
    "    return scrape_google_news(link, df, start, end)"
   ]
  },
  {
   "cell_type": "code",
   "execution_count": 99,
   "metadata": {},
   "outputs": [],
   "source": [
    "def get_date(time, cur_date):\n",
    "    x, y = time.split(' ')[0: 2]\n",
    "    d = None\n",
    "    if y in ['day', 'days']:\n",
    "        d = cur_date - timedelta(days = int(x))\n",
    "    elif y in ['week', 'weeks']:\n",
    "        d = cur_date - timedelta(weeks = int(x))\n",
    "    elif y in ['month', 'months']:\n",
    "        d = cur_date - timedelta(weeks = int(x) * 4)\n",
    "    elif y in ['year', 'years']:\n",
    "        d = cur_date - timedelta(weeks = int(x) * 48)\n",
    "    return d"
   ]
  },
  {
   "cell_type": "code",
   "execution_count": 103,
   "metadata": {},
   "outputs": [],
   "source": [
    "df = scrape_google_news(link, df, 0, 10)"
   ]
  },
  {
   "cell_type": "code",
   "execution_count": 104,
   "metadata": {},
   "outputs": [
    {
     "data": {
      "text/html": [
       "<div>\n",
       "<style scoped>\n",
       "    .dataframe tbody tr th:only-of-type {\n",
       "        vertical-align: middle;\n",
       "    }\n",
       "\n",
       "    .dataframe tbody tr th {\n",
       "        vertical-align: top;\n",
       "    }\n",
       "\n",
       "    .dataframe thead th {\n",
       "        text-align: right;\n",
       "    }\n",
       "</style>\n",
       "<table border=\"1\" class=\"dataframe\">\n",
       "  <thead>\n",
       "    <tr style=\"text-align: right;\">\n",
       "      <th></th>\n",
       "      <th>Title</th>\n",
       "      <th>URL</th>\n",
       "      <th>Date</th>\n",
       "      <th>Content</th>\n",
       "    </tr>\n",
       "  </thead>\n",
       "  <tbody>\n",
       "    <tr>\n",
       "      <th>0</th>\n",
       "      <td>Vietnam confirms first H5N8 avian flu outbreak</td>\n",
       "      <td>https://www.agri-pulse.com/articles/16129-viet...</td>\n",
       "      <td>2021-07-05</td>\n",
       "      <td>Vietnam has confirmed the first outbreak of th...</td>\n",
       "    </tr>\n",
       "    <tr>\n",
       "      <th>1</th>\n",
       "      <td>Vietnam reports first H5N8 avian flu outbreak ...</td>\n",
       "      <td>https://www.reuters.com/world/asia-pacific/vie...</td>\n",
       "      <td>2021-07-05</td>\n",
       "      <td>Vietnam reports first H5N8 avian flu outbreak ...</td>\n",
       "    </tr>\n",
       "    <tr>\n",
       "      <th>2</th>\n",
       "      <td>An ideal public health model? Vietnam’s state-...</td>\n",
       "      <td>https://www.brookings.edu/blog/order-from-chao...</td>\n",
       "      <td>2021-06-28</td>\n",
       "      <td>While Vietnam is experiencing its largest surg...</td>\n",
       "    </tr>\n",
       "    <tr>\n",
       "      <th>3</th>\n",
       "      <td>News Scan for Jul 06, 2021</td>\n",
       "      <td>https://www.cidrap.umn.edu/news-perspective/20...</td>\n",
       "      <td>2021-07-05</td>\n",
       "      <td>Vietnam recently reported its first highly pat...</td>\n",
       "    </tr>\n",
       "    <tr>\n",
       "      <th>4</th>\n",
       "      <td>Ghana culls thousands of chickens amid avian f...</td>\n",
       "      <td>https://arynews.tv/ghana-culls-chickens-avian-...</td>\n",
       "      <td>2021-07-17</td>\n",
       "      <td>Avian influenza virus occurs mainly in birds, ...</td>\n",
       "    </tr>\n",
       "    <tr>\n",
       "      <th>...</th>\n",
       "      <td>...</td>\n",
       "      <td>...</td>\n",
       "      <td>...</td>\n",
       "      <td>...</td>\n",
       "    </tr>\n",
       "    <tr>\n",
       "      <th>95</th>\n",
       "      <td>How to reduce avian flu spread at Asian poultr...</td>\n",
       "      <td>https://www.wattagnet.com/articles/42864-two-s...</td>\n",
       "      <td>2021-05-24</td>\n",
       "      <td>As recently as one month ago, authorities in V...</td>\n",
       "    </tr>\n",
       "    <tr>\n",
       "      <th>96</th>\n",
       "      <td>Endangered Species Are Paying the Price of COV...</td>\n",
       "      <td>https://foreignpolicy.com/2021/07/11/endangere...</td>\n",
       "      <td>2021-07-12</td>\n",
       "      <td>Pre-pandemic, a combination of falling prices ...</td>\n",
       "    </tr>\n",
       "    <tr>\n",
       "      <th>97</th>\n",
       "      <td>First known human case of H10N3 influenza in C...</td>\n",
       "      <td>https://www.wattagnet.com/articles/42951-first...</td>\n",
       "      <td>2021-06-21</td>\n",
       "      <td>These were the first new registered cases of a...</td>\n",
       "    </tr>\n",
       "    <tr>\n",
       "      <th>98</th>\n",
       "      <td>H5N1 avian influenza: Laos reports first human...</td>\n",
       "      <td>http://outbreaknewstoday.com/h5n1-avian-influe...</td>\n",
       "      <td>2020-12-07</td>\n",
       "      <td>A total of 862 cases of H5N1 influenza have be...</td>\n",
       "    </tr>\n",
       "    <tr>\n",
       "      <th>99</th>\n",
       "      <td>5 states have reported bird flu outbreak: Here...</td>\n",
       "      <td>https://www.hindustantimes.com/india-news/five...</td>\n",
       "      <td>2021-02-01</td>\n",
       "      <td>Bird flu is a highly contagious viral disease ...</td>\n",
       "    </tr>\n",
       "  </tbody>\n",
       "</table>\n",
       "<p>100 rows × 4 columns</p>\n",
       "</div>"
      ],
      "text/plain": [
       "                                                Title  \\\n",
       "0      Vietnam confirms first H5N8 avian flu outbreak   \n",
       "1   Vietnam reports first H5N8 avian flu outbreak ...   \n",
       "2   An ideal public health model? Vietnam’s state-...   \n",
       "3                          News Scan for Jul 06, 2021   \n",
       "4   Ghana culls thousands of chickens amid avian f...   \n",
       "..                                                ...   \n",
       "95  How to reduce avian flu spread at Asian poultr...   \n",
       "96  Endangered Species Are Paying the Price of COV...   \n",
       "97  First known human case of H10N3 influenza in C...   \n",
       "98  H5N1 avian influenza: Laos reports first human...   \n",
       "99  5 states have reported bird flu outbreak: Here...   \n",
       "\n",
       "                                                  URL        Date  \\\n",
       "0   https://www.agri-pulse.com/articles/16129-viet...  2021-07-05   \n",
       "1   https://www.reuters.com/world/asia-pacific/vie...  2021-07-05   \n",
       "2   https://www.brookings.edu/blog/order-from-chao...  2021-06-28   \n",
       "3   https://www.cidrap.umn.edu/news-perspective/20...  2021-07-05   \n",
       "4   https://arynews.tv/ghana-culls-chickens-avian-...  2021-07-17   \n",
       "..                                                ...         ...   \n",
       "95  https://www.wattagnet.com/articles/42864-two-s...  2021-05-24   \n",
       "96  https://foreignpolicy.com/2021/07/11/endangere...  2021-07-12   \n",
       "97  https://www.wattagnet.com/articles/42951-first...  2021-06-21   \n",
       "98  http://outbreaknewstoday.com/h5n1-avian-influe...  2020-12-07   \n",
       "99  https://www.hindustantimes.com/india-news/five...  2021-02-01   \n",
       "\n",
       "                                              Content  \n",
       "0   Vietnam has confirmed the first outbreak of th...  \n",
       "1   Vietnam reports first H5N8 avian flu outbreak ...  \n",
       "2   While Vietnam is experiencing its largest surg...  \n",
       "3   Vietnam recently reported its first highly pat...  \n",
       "4   Avian influenza virus occurs mainly in birds, ...  \n",
       "..                                                ...  \n",
       "95  As recently as one month ago, authorities in V...  \n",
       "96  Pre-pandemic, a combination of falling prices ...  \n",
       "97  These were the first new registered cases of a...  \n",
       "98  A total of 862 cases of H5N1 influenza have be...  \n",
       "99  Bird flu is a highly contagious viral disease ...  \n",
       "\n",
       "[100 rows x 4 columns]"
      ]
     },
     "execution_count": 104,
     "metadata": {},
     "output_type": "execute_result"
    }
   ],
   "source": [
    "df"
   ]
  },
  {
   "cell_type": "code",
   "execution_count": 109,
   "metadata": {},
   "outputs": [],
   "source": [
    "df.to_csv('data/google_news_articles.csv', index = False)"
   ]
  },
  {
   "cell_type": "markdown",
   "metadata": {},
   "source": [
    "## Search Vietnamese 'dịch cúm gia cầm' (HPAI)"
   ]
  },
  {
   "cell_type": "code",
   "execution_count": 105,
   "metadata": {},
   "outputs": [],
   "source": [
    "q = 'dịch+cúm+gia+cầm'\n",
    "link = first + q + second\n",
    "dt = pd.DataFrame(columns = ['Title', 'URL', 'Date', 'Content'])"
   ]
  },
  {
   "cell_type": "code",
   "execution_count": 106,
   "metadata": {},
   "outputs": [],
   "source": [
    "dt = scrape_google_news(link, dt, 0, 10)"
   ]
  },
  {
   "cell_type": "code",
   "execution_count": 107,
   "metadata": {},
   "outputs": [
    {
     "data": {
      "text/html": [
       "<div>\n",
       "<style scoped>\n",
       "    .dataframe tbody tr th:only-of-type {\n",
       "        vertical-align: middle;\n",
       "    }\n",
       "\n",
       "    .dataframe tbody tr th {\n",
       "        vertical-align: top;\n",
       "    }\n",
       "\n",
       "    .dataframe thead th {\n",
       "        text-align: right;\n",
       "    }\n",
       "</style>\n",
       "<table border=\"1\" class=\"dataframe\">\n",
       "  <thead>\n",
       "    <tr style=\"text-align: right;\">\n",
       "      <th></th>\n",
       "      <th>Title</th>\n",
       "      <th>URL</th>\n",
       "      <th>Date</th>\n",
       "      <th>Content</th>\n",
       "    </tr>\n",
       "  </thead>\n",
       "  <tbody>\n",
       "    <tr>\n",
       "      <th>0</th>\n",
       "      <td>Quảng Ninh phát hiện chủng cúm gia cầm lần đầu...</td>\n",
       "      <td>https://tuoitre.vn/quang-ninh-phat-hien-chung-...</td>\n",
       "      <td>2021-07-05</td>\n",
       "      <td>Ngay sau đó, Trung tâm Dịch vụ kỹ thuật nông n...</td>\n",
       "    </tr>\n",
       "    <tr>\n",
       "      <th>1</th>\n",
       "      <td>Quảng Ninh xuất hiện cúm gia cầm H5N8</td>\n",
       "      <td>https://vnexpress.net/quang-ninh-xuat-hien-cum...</td>\n",
       "      <td>2021-07-05</td>\n",
       "      <td>Ổ dịch cúm gia cầm được ghi nhận tại một trại ...</td>\n",
       "    </tr>\n",
       "    <tr>\n",
       "      <th>2</th>\n",
       "      <td>Lần đầu tiên phát hiện chủng cúm gia cầm A/H5N...</td>\n",
       "      <td>https://vov.vn/xa-hoi/tin-24h/lan-dau-tien-pha...</td>\n",
       "      <td>2021-07-05</td>\n",
       "      <td>Trung tâm Dịch vụ kỹ thuật nông nghiệp thành p...</td>\n",
       "    </tr>\n",
       "    <tr>\n",
       "      <th>3</th>\n",
       "      <td>3 tỉnh có cúm gia cầm A/H5N8 thể độc lực cao, ...</td>\n",
       "      <td>https://thanhnien.vn/tai-chinh-kinh-doanh/3-ti...</td>\n",
       "      <td>2021-07-05</td>\n",
       "      <td>Theo Bộ NN-PNT cho biết, từ đầu tháng 6 đến na...</td>\n",
       "    </tr>\n",
       "    <tr>\n",
       "      <th>4</th>\n",
       "      <td>Nghệ An ra công điện khẩn phòng, chống chủng v...</td>\n",
       "      <td>https://baonghean.vn/nghe-an-ra-cong-dien-khan...</td>\n",
       "      <td>2021-07-15</td>\n",
       "      <td>(Baonghean.vn) - Chủng cúm gia cầm A/H5N8 từng...</td>\n",
       "    </tr>\n",
       "    <tr>\n",
       "      <th>...</th>\n",
       "      <td>...</td>\n",
       "      <td>...</td>\n",
       "      <td>...</td>\n",
       "      <td>...</td>\n",
       "    </tr>\n",
       "    <tr>\n",
       "      <th>95</th>\n",
       "      <td>Nhận diện chủng virus cúm gia cầm độc lực cao ...</td>\n",
       "      <td>https://nongnghiep.vn/nhan-dien-chung-virus-cu...</td>\n",
       "      <td>2021-07-17</td>\n",
       "      <td>Dịch Covid-19 đang có diễn biến phức tạp, việc...</td>\n",
       "    </tr>\n",
       "    <tr>\n",
       "      <th>96</th>\n",
       "      <td>Chuyện về ông tiến sĩ \"chế\" văcxin chống cúm g...</td>\n",
       "      <td>https://khoahocdoisong.vn/chuyen-ve-ong-tien-s...</td>\n",
       "      <td>2021-07-12</td>\n",
       "      <td>(khoahocdoisong.vn) - Năm 2003, dịch cúm gia c...</td>\n",
       "    </tr>\n",
       "    <tr>\n",
       "      <th>97</th>\n",
       "      <td>Các trại gà gần ổ dịch cúm A/H5N8 vẫn an toàn</td>\n",
       "      <td>https://nongnghiep.vn/cac-trai-ga-gan-o-dich-c...</td>\n",
       "      <td>2021-07-05</td>\n",
       "      <td>Các trại gà gần ổ dịch cúm A/H5N8 vẫn an toàn....</td>\n",
       "    </tr>\n",
       "    <tr>\n",
       "      <th>98</th>\n",
       "      <td>Bắt vụ vận chuyển gần 12.000 con gia cầm chưa ...</td>\n",
       "      <td>https://baonghean.vn/bat-vu-van-chuyen-gan-120...</td>\n",
       "      <td>2021-07-15</td>\n",
       "      <td>Trung tâm Dịch vụ Nông nghiệp huyện đã tiếp nh...</td>\n",
       "    </tr>\n",
       "    <tr>\n",
       "      <th>99</th>\n",
       "      <td>Hà Nội: Chăn nuôi nhỏ lẻ gây khó trong kiểm so...</td>\n",
       "      <td>https://bnews.vn/ha-noi-chan-nuoi-nho-le-gay-k...</td>\n",
       "      <td>2021-06-28</td>\n",
       "      <td>Đối với bệnh cúm gia cầm, hiện nay lực lượng c...</td>\n",
       "    </tr>\n",
       "  </tbody>\n",
       "</table>\n",
       "<p>100 rows × 4 columns</p>\n",
       "</div>"
      ],
      "text/plain": [
       "                                                Title  \\\n",
       "0   Quảng Ninh phát hiện chủng cúm gia cầm lần đầu...   \n",
       "1               Quảng Ninh xuất hiện cúm gia cầm H5N8   \n",
       "2   Lần đầu tiên phát hiện chủng cúm gia cầm A/H5N...   \n",
       "3   3 tỉnh có cúm gia cầm A/H5N8 thể độc lực cao, ...   \n",
       "4   Nghệ An ra công điện khẩn phòng, chống chủng v...   \n",
       "..                                                ...   \n",
       "95  Nhận diện chủng virus cúm gia cầm độc lực cao ...   \n",
       "96  Chuyện về ông tiến sĩ \"chế\" văcxin chống cúm g...   \n",
       "97      Các trại gà gần ổ dịch cúm A/H5N8 vẫn an toàn   \n",
       "98  Bắt vụ vận chuyển gần 12.000 con gia cầm chưa ...   \n",
       "99  Hà Nội: Chăn nuôi nhỏ lẻ gây khó trong kiểm so...   \n",
       "\n",
       "                                                  URL        Date  \\\n",
       "0   https://tuoitre.vn/quang-ninh-phat-hien-chung-...  2021-07-05   \n",
       "1   https://vnexpress.net/quang-ninh-xuat-hien-cum...  2021-07-05   \n",
       "2   https://vov.vn/xa-hoi/tin-24h/lan-dau-tien-pha...  2021-07-05   \n",
       "3   https://thanhnien.vn/tai-chinh-kinh-doanh/3-ti...  2021-07-05   \n",
       "4   https://baonghean.vn/nghe-an-ra-cong-dien-khan...  2021-07-15   \n",
       "..                                                ...         ...   \n",
       "95  https://nongnghiep.vn/nhan-dien-chung-virus-cu...  2021-07-17   \n",
       "96  https://khoahocdoisong.vn/chuyen-ve-ong-tien-s...  2021-07-12   \n",
       "97  https://nongnghiep.vn/cac-trai-ga-gan-o-dich-c...  2021-07-05   \n",
       "98  https://baonghean.vn/bat-vu-van-chuyen-gan-120...  2021-07-15   \n",
       "99  https://bnews.vn/ha-noi-chan-nuoi-nho-le-gay-k...  2021-06-28   \n",
       "\n",
       "                                              Content  \n",
       "0   Ngay sau đó, Trung tâm Dịch vụ kỹ thuật nông n...  \n",
       "1   Ổ dịch cúm gia cầm được ghi nhận tại một trại ...  \n",
       "2   Trung tâm Dịch vụ kỹ thuật nông nghiệp thành p...  \n",
       "3   Theo Bộ NN-PNT cho biết, từ đầu tháng 6 đến na...  \n",
       "4   (Baonghean.vn) - Chủng cúm gia cầm A/H5N8 từng...  \n",
       "..                                                ...  \n",
       "95  Dịch Covid-19 đang có diễn biến phức tạp, việc...  \n",
       "96  (khoahocdoisong.vn) - Năm 2003, dịch cúm gia c...  \n",
       "97  Các trại gà gần ổ dịch cúm A/H5N8 vẫn an toàn....  \n",
       "98  Trung tâm Dịch vụ Nông nghiệp huyện đã tiếp nh...  \n",
       "99  Đối với bệnh cúm gia cầm, hiện nay lực lượng c...  \n",
       "\n",
       "[100 rows x 4 columns]"
      ]
     },
     "execution_count": 107,
     "metadata": {},
     "output_type": "execute_result"
    }
   ],
   "source": [
    "dt"
   ]
  },
  {
   "cell_type": "code",
   "execution_count": 108,
   "metadata": {},
   "outputs": [],
   "source": [
    "dt.to_csv('data/google_news_articles_vietnamese.csv', index = False)"
   ]
  },
  {
   "cell_type": "code",
   "execution_count": null,
   "metadata": {},
   "outputs": [],
   "source": []
  }
 ],
 "metadata": {
  "colab": {
   "collapsed_sections": [],
   "name": "vietnam web scrape - google.ipynb",
   "provenance": []
  },
  "kernelspec": {
   "display_name": "Python 3",
   "language": "python",
   "name": "python3"
  },
  "language_info": {
   "codemirror_mode": {
    "name": "ipython",
    "version": 3
   },
   "file_extension": ".py",
   "mimetype": "text/x-python",
   "name": "python",
   "nbconvert_exporter": "python",
   "pygments_lexer": "ipython3",
   "version": "3.8.5"
  }
 },
 "nbformat": 4,
 "nbformat_minor": 1
}
